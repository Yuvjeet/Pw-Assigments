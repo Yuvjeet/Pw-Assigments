{
 "cells": [
  {
   "cell_type": "markdown",
   "id": "f2a9d248-44e2-4b13-bfec-6b1bafe9bc2b",
   "metadata": {},
   "source": [
    "Q1. Which function is used to open a file? What are the different modes of opening a file? Explain each mode of file opening."
   ]
  },
  {
   "cell_type": "markdown",
   "id": "18161b1d-8f2d-4ece-bbce-c09358f44284",
   "metadata": {},
   "source": [
    "Ans. In Python, the open() function is used to open a file. This function takes in two parameters: the first parameter is the filename along with its path and the second parameter is the mode in which the file is to be opened.\n",
    "\n",
    "The different modes in which a file can be opened are:\n",
    "\n",
    "1.Read mode (\"r\"): This is the default mode of opening a file. In this mode, the file is opened for reading only. If the file does not exist, an error is raised.<br>\n",
    "2.Write mode (\"w\"): In this mode, the file is opened for writing. If the file does not exist, it is created. If the file already exists, its contents are deleted before writing to it.<br>\n",
    "3.Append mode (\"a\"): In this mode, the file is opened for appending new data to the end of the file. If the file does not exist, it is created.<br>\n",
    "4.Binary mode (\"b\"): This mode is used for opening a file in binary mode. In this mode, the file is read or written in its binary format.<br>\n",
    "5.Text mode (\"t\"): This mode is used for opening a file in text mode. In this mode, the file is read or written in its text format.<br>\n",
    "6.Read and Write mode (\"r+\"): In this mode, the file is opened for both reading and writing. The pointer is placed at the beginning of the file.<br>\n",
    "7.Write and Read mode (\"w+\"): In this mode, the file is opened for both writing and reading. If the file does not exist, it is created. If the file already exists, its contents are deleted before writing to it.<br>\n",
    "8.Append and Read mode (\"a+\"): In this mode, the file is opened for both appending and reading. If the file does not exist, it is created.<br>"
   ]
  },
  {
   "cell_type": "markdown",
   "id": "54f447cb-e632-49f7-b90e-e7a6b1fcc13c",
   "metadata": {},
   "source": [
    "Q2. Why close() function is used? Why is it important to close a file?"
   ]
  },
  {
   "cell_type": "markdown",
   "id": "0c292a4c-037d-4189-ab9c-39c62ce50500",
   "metadata": {},
   "source": [
    "Ans. The close() function is used to close a file after it has been opened in a Python program. It is important to close a file because it releases any system resources being used by the file, such as memory and open file descriptors, which can otherwise cause issues with other programs\n",
    "\n",
    "When a file is opened in Python, the operating system assigns a certain number of resources to it, such as memory and file descriptors. If a file is not properly closed after it has been used, these resources will continue to be allocated to the file, even if the program that opened the file has finished executing. This can cause memory leaks, which can slow down the computer and cause other programs to crash.\n",
    "\n",
    "In addition to releasing system resources, closing a file ensures that any changes made to the file are written to disk. If a file is not closed properly, any changes that were made to the file may be lost or corrupted."
   ]
  },
  {
   "cell_type": "markdown",
   "id": "d373e3bb-7328-4024-a351-07a704e25611",
   "metadata": {},
   "source": [
    "Q3. Write a python program to create a text file. Write ‘I want to become a Data Scientist’ in that file. Then close the file. Open this file and read the content of the file."
   ]
  },
  {
   "cell_type": "code",
   "execution_count": 2,
   "id": "fbfcf377-61a9-409b-b639-e1b35ccdb42b",
   "metadata": {},
   "outputs": [],
   "source": [
    "with open(\"goal.txt\", \"w\") as f:\n",
    "    f.write(\"I want to become a Data Scientist\")\n",
    "    f.close()"
   ]
  },
  {
   "cell_type": "code",
   "execution_count": 3,
   "id": "c61cf901-c5e8-430f-9637-b3408a47c62e",
   "metadata": {},
   "outputs": [
    {
     "name": "stdout",
     "output_type": "stream",
     "text": [
      "I want to become a Data Scientist\n"
     ]
    }
   ],
   "source": [
    "with open(\"goal.txt\", \"r\") as f:\n",
    "    print(f.read())"
   ]
  },
  {
   "cell_type": "markdown",
   "id": "f2d4f80f-e424-4e0d-a1fd-dbf14eb0c0e3",
   "metadata": {},
   "source": [
    "Q4. Explain the following with python code: read(), readline() and readlines()."
   ]
  },
  {
   "cell_type": "markdown",
   "id": "7cdbe1fb-7fb9-4824-bc8f-d6eae8e875fb",
   "metadata": {},
   "source": [
    "Ans. In Python, we can read files using the built-in open() function. Once a file is opened, there are several methods available to read the contents of the file. The three most commonly used methods are read(), readline(), and readlines()."
   ]
  },
  {
   "cell_type": "code",
   "execution_count": 7,
   "id": "17f70a87-e2d8-49c4-a434-b255e80c42c3",
   "metadata": {},
   "outputs": [
    {
     "name": "stdout",
     "output_type": "stream",
     "text": [
      "Data Science Masters course is highly curated and uniquely designed according to the latest industry standards. \n",
      "This program instills students the skills essential to knowledge discovery efforts to identify standard, novel, and truly differentiated solutions and decision-making, including skills in managing, querying, analyzing, visualizing, and extracting meaning from extremely large data sets. This trending program provides students with the statistical, mathematical and computational skills needed to meet the large-scale data science challenges of today's professional world. You will learn all the stack required to work in data science industry including cloud infrastructure and real-time industry projects.\n"
     ]
    }
   ],
   "source": [
    "# The read() method reads the entire contents of the file as a single string. Here's an example:\n",
    "with open(\"goal.txt\", 'r') as f:\n",
    "    content = f.read()\n",
    "    print(content)"
   ]
  },
  {
   "cell_type": "code",
   "execution_count": 8,
   "id": "b10e4e0c-ab80-4fe6-b687-f44046166e29",
   "metadata": {},
   "outputs": [
    {
     "name": "stdout",
     "output_type": "stream",
     "text": [
      "Data Science Masters course is highly curated and uniquely designed according to the latest industry standards. \n",
      "\n"
     ]
    }
   ],
   "source": [
    "# The readline() method reads a single line from the file. Here's an example:\n",
    "with open(\"goal.txt\", 'r') as f:\n",
    "    line = f.readline()\n",
    "    print(line)"
   ]
  },
  {
   "cell_type": "code",
   "execution_count": 9,
   "id": "c77ee8a5-6339-4097-b246-0397494c18ac",
   "metadata": {},
   "outputs": [
    {
     "name": "stdout",
     "output_type": "stream",
     "text": [
      "['Data Science Masters course is highly curated and uniquely designed according to the latest industry standards. \\n', \"This program instills students the skills essential to knowledge discovery efforts to identify standard, novel, and truly differentiated solutions and decision-making, including skills in managing, querying, analyzing, visualizing, and extracting meaning from extremely large data sets. This trending program provides students with the statistical, mathematical and computational skills needed to meet the large-scale data science challenges of today's professional world. You will learn all the stack required to work in data science industry including cloud infrastructure and real-time industry projects.\"]\n"
     ]
    }
   ],
   "source": [
    "# The readlines() method reads all the lines of a file and returns them as a list of strings. Here's an example:\n",
    "with open(\"goal.txt\", 'r') as f:\n",
    "    lines = f.readlines()\n",
    "    print(lines)"
   ]
  },
  {
   "cell_type": "markdown",
   "id": "5aec17d6-de3c-4455-aea5-b8ae8d08675f",
   "metadata": {},
   "source": [
    "Q5. Explain why with statement is used with open(). What is the advantage of using with statement and open() together?"
   ]
  },
  {
   "cell_type": "markdown",
   "id": "b8f22dc0-9a00-4f7e-8887-99109ce93f9a",
   "metadata": {},
   "source": [
    "The with statement is used with the open() function in Python to open files in a way that ensures they are automatically closed after they are used. The advantage of using the with statement with open() is that it provides a convenient way to handle file objects without worrying about closing them explicitly.\n",
    "\n",
    "The with statement sets up a context for a block of code, and any resources opened within that block are automatically cleaned up when the block is exited, whether normally or by exception. This means that the file object created by open() is automatically closed after the code within the with statement has been executed."
   ]
  },
  {
   "cell_type": "markdown",
   "id": "112f9e93-25de-455c-bf02-a4f29e8f311c",
   "metadata": {},
   "source": [
    "Q6. Explain the write() and writelines() functions. Give a suitable example."
   ]
  },
  {
   "cell_type": "markdown",
   "id": "50412e03-9107-42f6-b536-1befdbcada27",
   "metadata": {},
   "source": [
    "In Python, the write() and writelines() functions are used to write data to a file.\n",
    "\n",
    "The write() function writes a single string to a file, while the writelines() function writes a list of strings to a file."
   ]
  },
  {
   "cell_type": "code",
   "execution_count": 10,
   "id": "2f555376-e19f-4d81-9859-49d4418e343f",
   "metadata": {},
   "outputs": [],
   "source": [
    "with open(\"demo.txt\", 'w') as w:\n",
    "    l = ['Data Science Masters course is highly curated and uniquely designed according to the latest industry standards. \\n','Data Science Masters course is highly curated and uniquely designed according to the latest industry standards. \\n']\n",
    "    w.write(\"I want to become a data scientist\")\n",
    "    w.writelines(l)\n",
    "    w.close()"
   ]
  },
  {
   "cell_type": "code",
   "execution_count": null,
   "id": "62f49f81-31c9-4fb3-9703-cd5c10c4edc2",
   "metadata": {},
   "outputs": [],
   "source": []
  }
 ],
 "metadata": {
  "kernelspec": {
   "display_name": "Python 3 (ipykernel)",
   "language": "python",
   "name": "python3"
  },
  "language_info": {
   "codemirror_mode": {
    "name": "ipython",
    "version": 3
   },
   "file_extension": ".py",
   "mimetype": "text/x-python",
   "name": "python",
   "nbconvert_exporter": "python",
   "pygments_lexer": "ipython3",
   "version": "3.10.8"
  }
 },
 "nbformat": 4,
 "nbformat_minor": 5
}
