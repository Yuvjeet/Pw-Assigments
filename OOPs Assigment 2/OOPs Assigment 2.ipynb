{
 "cells": [
  {
   "cell_type": "markdown",
   "id": "6231bf6a-17b6-4a0e-9a0b-5c97d106c1a8",
   "metadata": {},
   "source": [
    "Q1. What is Abstraction in OOps? Explain with an example."
   ]
  },
  {
   "cell_type": "markdown",
   "id": "a291aff0-91ea-4678-aa2e-d5bcf55d4cc2",
   "metadata": {},
   "source": [
    "In Object-Oriented Programming (OOPs), Abstraction is the process of hiding the implementation details of an object or a method, and exposing only the necessary information or functionality to the user.\n",
    "\n",
    "Abstraction allows us to focus on the essential features of an object or a method, while ignoring the non-essential details. It helps in reducing the complexity of the system and makes it easier to understand and maintain.\n",
    "\n",
    "For example, let's say we have a class called \"Car\" that represents a car object. The car has various properties such as the model, year, color, and so on. It also has various methods such as \"startEngine\", \"stopEngine\", \"accelerate\", and \"brake\".\n",
    "\n",
    "Now, let's say we want to use the car object in our program. We do not need to know the details of how the engine works or how the car accelerates. All we need to know is how to start the engine, stop the engine, accelerate and brake. We can create an instance of the \"Car\" class and use the methods provided by the class to perform these actions."
   ]
  },
  {
   "cell_type": "markdown",
   "id": "b89bd551-6613-4fac-aa92-3d658c5c09dc",
   "metadata": {},
   "source": [
    "Q2. Differentiate between Abstraction and Encapsulation. Explain with an example."
   ]
  },
  {
   "cell_type": "markdown",
   "id": "f79edbf2-951a-40a5-9e27-399dc992d2e0",
   "metadata": {},
   "source": [
    "Abstraction and Encapsulation are two important concepts in Object-Oriented Programming (OOPs), but they are different from each other.\n",
    "\n",
    "Abstraction is the process of hiding the implementation details of an object or method and exposing only the necessary information or functionality to the user. It is a way of managing complexity by focusing on the essential features of an object or method and ignoring the non-essential details.\n",
    "\n",
    "Encapsulation, on the other hand, is the process of wrapping the data and the methods that operate on the data into a single unit called a class. It is a way of protecting the data and preventing it from being accessed or modified directly by the user.\n",
    "\n",
    "The main difference between Abstraction and Encapsulation is that Abstraction is about hiding the details and showing only the necessary information or functionality, while Encapsulation is about bundling the data and the methods that operate on the data together in a class and protecting it from direct access.\n",
    "\n",
    "For example, let's consider a class called \"BankAccount\". The class has properties such as account number, account holder name, and balance, and methods such as \"deposit\" and \"withdraw\".\n",
    "\n",
    "Abstraction in this example would involve hiding the implementation details of the \"deposit\" and \"withdraw\" methods and exposing only the functionality of adding or subtracting money from the account balance.\n",
    "\n",
    "Encapsulation in this example would involve wrapping the data and methods of the \"BankAccount\" class into a single unit and protecting it from direct access. For instance, we could make the properties private, so they cannot be directly accessed outside the class. Instead, we could provide public methods like \"getBalance\" and \"setBalance\" to access and modify the balance property indirectly.\n",
    "\n",
    "In summary, Abstraction is about hiding unnecessary details while providing necessary details, and Encapsulation is about protecting data and methods of a class from direct access outside the class."
   ]
  },
  {
   "cell_type": "markdown",
   "id": "2073df4d-3f5c-48c6-80b7-5c222b59830f",
   "metadata": {},
   "source": [
    "Q3. What is abc module in python? Why is it used?"
   ]
  },
  {
   "cell_type": "markdown",
   "id": "4d55013a-ee4e-4f14-8dc6-b3fc138e5617",
   "metadata": {},
   "source": [
    "In Python, the abc module provides support for Abstract Base Classes (ABCs). An Abstract Base Class is a class that cannot be instantiated on its own but can be subclassed to provide implementation details.\n",
    "\n",
    "The abc module is used to define ABCs and enforce the implementation of specific methods in the subclasses. This is useful when we want to create a hierarchy of classes that share some common functionality but have different implementations for specific methods.\n",
    "\n",
    "Using ABCs helps in designing more flexible and robust code, as it allows us to define a contract that the subclasses must follow, ensuring that they have specific methods implemented. This helps in reducing errors and making the code easier to maintain."
   ]
  },
  {
   "cell_type": "markdown",
   "id": "550ef3da-cb95-4d1e-9dcc-cc38d617350f",
   "metadata": {},
   "source": [
    "Q4. How can we achieve data abstraction?"
   ]
  },
  {
   "cell_type": "markdown",
   "id": "0de9686a-24ac-4a27-b10b-8736c3a2d82e",
   "metadata": {},
   "source": [
    "In Python, we can achieve data abstraction using various techniques. Here are some common techniques used to achieve data abstraction in Python:\n",
    "\n",
    "1.Encapsulation: Encapsulation in Python is achieved by defining a class and making its methods and attributes private using the double underscore __ prefix. This makes the methods and attributes inaccessible from outside the class, thereby hiding the implementation details of the data. The user can access the data only through the public methods provided by the class.\n",
    "\n",
    "2.Abstract Base Classes (ABC): Python provides the abc module, which can be used to define abstract classes that cannot be instantiated on their own but can be subclassed to provide implementation details. By defining abstract classes, we can provide a contract that the subclasses must follow, ensuring that they have specific methods implemented.\n",
    "\n",
    "3.Property Decorators: In Python, we can use the property decorators to encapsulate the data and provide controlled access to it. By using the property decorators, we can define getter and setter methods for the attributes, which allow us to perform certain operations before accessing or setting the data.\n",
    "\n",
    "4.Interface-based programming: Python does not have interfaces like other programming languages, but we can achieve interface-based programming using abstract classes. By defining abstract classes and requiring the subclasses to implement specific methods, we can provide a standardized way for classes to interact with each other.\n",
    "\n",
    "In summary, we can achieve data abstraction in Python using various techniques, including encapsulation, abstract base classes, property decorators, and interface-based programming using abstract classes. The specific technique used depends on the requirements of the program and the level of data abstraction needed."
   ]
  },
  {
   "cell_type": "markdown",
   "id": "5282c6b5-7f14-4b53-b398-2363ed8c999a",
   "metadata": {},
   "source": [
    "Q5. Can we create an instance of an abstract class? Explain your answer."
   ]
  },
  {
   "cell_type": "code",
   "execution_count": null,
   "id": "a03997c1-2b03-414e-a1c9-6456c083cdd4",
   "metadata": {},
   "outputs": [],
   "source": []
  }
 ],
 "metadata": {
  "kernelspec": {
   "display_name": "Python 3 (ipykernel)",
   "language": "python",
   "name": "python3"
  },
  "language_info": {
   "codemirror_mode": {
    "name": "ipython",
    "version": 3
   },
   "file_extension": ".py",
   "mimetype": "text/x-python",
   "name": "python",
   "nbconvert_exporter": "python",
   "pygments_lexer": "ipython3",
   "version": "3.10.8"
  }
 },
 "nbformat": 4,
 "nbformat_minor": 5
}
