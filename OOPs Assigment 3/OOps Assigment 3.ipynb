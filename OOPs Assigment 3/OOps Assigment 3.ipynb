{
 "cells": [
  {
   "cell_type": "markdown",
   "id": "a3d120cf-cbb4-4a23-b58d-ab8eeaabf41a",
   "metadata": {},
   "source": [
    "Q1, Create a vehicle class with an init method having instance variables as name_of_vehicle, max_speed\n",
    "and average_of_vehicle."
   ]
  },
  {
   "cell_type": "code",
   "execution_count": 3,
   "id": "56f0e138-8032-453b-918b-c9f64562db78",
   "metadata": {},
   "outputs": [],
   "source": [
    "class vehicle:\n",
    "    def __init__(self, name, max_speed, average):\n",
    "        self.name = name\n",
    "        self.max_speed = max_speed\n",
    "        self.average = average\n",
    "nano = vehicle(\"nano\", 100, 90)"
   ]
  },
  {
   "cell_type": "markdown",
   "id": "cf9962ba-85bb-4df9-b4be-4fe7b23ebfe8",
   "metadata": {},
   "source": [
    "Q2. Create a child class car from the vehicle class created in Que 1, which will inherit the vehicle class. Create a method named seating_capacity which takes capacity as an argument and returns the name of the vehicle and its seating capacity."
   ]
  },
  {
   "cell_type": "code",
   "execution_count": 12,
   "id": "a932de54-38d4-40f8-9d77-09a8622d22a6",
   "metadata": {},
   "outputs": [],
   "source": [
    "class car(vehicle):\n",
    "    def __init__(self,name, max_speed, average):\n",
    "        vehicle.__init__(self,name, max_speed, average)\n",
    "    def seating_capacity(self, capacity):\n",
    "        print(self.name, capacity)"
   ]
  },
  {
   "cell_type": "code",
   "execution_count": 14,
   "id": "28a61cad-7073-44aa-9936-ffc2541eeaa8",
   "metadata": {},
   "outputs": [
    {
     "name": "stdout",
     "output_type": "stream",
     "text": [
      "nano 4\n"
     ]
    }
   ],
   "source": [
    "nano = car(\"nano\",100,90)\n",
    "nano.seating_capacity(4)"
   ]
  },
  {
   "cell_type": "markdown",
   "id": "9cd6d629-3812-4e35-bb27-57b23a9059aa",
   "metadata": {},
   "source": [
    "Q3. What is multiple inheritance? Write a python code to demonstrate multiple inheritance."
   ]
  },
  {
   "cell_type": "markdown",
   "id": "5d0f9590-ac34-4133-ad85-ac5a03cb31dd",
   "metadata": {},
   "source": [
    "Multiple inheritance is a feature of object-oriented programming languages that allows a class to inherit from more than one base class. This means that a class can have multiple parent classes, and inherit attributes and methods from all of them."
   ]
  },
  {
   "cell_type": "code",
   "execution_count": 15,
   "id": "75679121-b0d5-4459-a9b5-d1683feb885e",
   "metadata": {},
   "outputs": [],
   "source": [
    "class Animal:\n",
    "    def __init__(self, species):\n",
    "        self.species = species\n",
    "        \n",
    "    def eat(self):\n",
    "        print(\"I am eating...\")\n",
    "        \n",
    "class Flyer:\n",
    "    def __init__(self, can_fly):\n",
    "        self.can_fly = can_fly\n",
    "        \n",
    "    def fly(self):\n",
    "        print(\"I am flying...\")\n",
    "        \n",
    "class Bird(Animal, Flyer):\n",
    "    def __init__(self, species, can_fly):\n",
    "        Animal.__init__(self, species)\n",
    "        Flyer.__init__(self, can_fly)\n",
    "        \n",
    "    def chirp(self):\n",
    "        print(\"Chirp chirp!\")"
   ]
  },
  {
   "cell_type": "code",
   "execution_count": 16,
   "id": "aba92bb0-95c8-400e-9fe3-cd408248f531",
   "metadata": {},
   "outputs": [
    {
     "name": "stdout",
     "output_type": "stream",
     "text": [
      "I am eating...\n",
      "I am flying...\n",
      "Chirp chirp!\n"
     ]
    }
   ],
   "source": [
    "bird = Bird(\"Robin\", True)\n",
    "bird.eat()\n",
    "bird.fly()\n",
    "bird.chirp()"
   ]
  },
  {
   "cell_type": "markdown",
   "id": "a038a752-672c-42ac-b7e3-10cb12ff61c3",
   "metadata": {},
   "source": [
    "Q4. What are getter and setter in python? Create a class and create a getter and a setter method in this class."
   ]
  },
  {
   "cell_type": "markdown",
   "id": "2f89095c-434c-46a8-bd78-7c333e1046a2",
   "metadata": {},
   "source": [
    "In Python, getter and setter are methods that allow access to and modification of private attributes of a class. They are useful for controlling access to the object's data, which can help ensure data integrity and security.\n",
    "\n",
    "To create a getter method in Python, you need to define a method that returns the value of a private attribute. To create a setter method, you need to define a method that accepts a parameter and sets the value of a private attribute. The private attribute can be denoted by prefixing it with an underscore."
   ]
  },
  {
   "cell_type": "code",
   "execution_count": 19,
   "id": "58a59cb1-4360-4276-bd03-3d8812257356",
   "metadata": {},
   "outputs": [],
   "source": [
    "class Person:\n",
    "    def __init__(self, name, age):\n",
    "        self._name = name\n",
    "        self._age = age\n",
    "    \n",
    "    def get_name(self):\n",
    "        return self._name\n",
    "    \n",
    "    def set_name(self, name):\n",
    "        self._name = name\n",
    "    \n",
    "    def get_age(self):\n",
    "        return self._age\n",
    "    \n",
    "    def set_age(self, age):\n",
    "        if age < 0:\n",
    "            print(\"Age cannot be negative.\")\n",
    "        self._age = age"
   ]
  },
  {
   "cell_type": "code",
   "execution_count": 22,
   "id": "72738455-caac-4e7b-932e-c92ec1c87187",
   "metadata": {},
   "outputs": [
    {
     "name": "stdout",
     "output_type": "stream",
     "text": [
      "Yuvjeet\n",
      "Anoop\n",
      "19\n",
      "20\n",
      "Age cannot be negative.\n"
     ]
    }
   ],
   "source": [
    "person = Person(\"Yuvjeet\", 19)\n",
    "print(person.get_name()) \n",
    "person.set_name(\"Anoop\")\n",
    "print(person.get_name())  \n",
    "\n",
    "print(person.get_age()) \n",
    "person.set_age(20)\n",
    "print(person.get_age())  \n",
    "person.set_age(-1) "
   ]
  },
  {
   "cell_type": "markdown",
   "id": "addbf657-f7c4-4840-b310-a12c1fe5c9ef",
   "metadata": {},
   "source": [
    "Q5.What is method overriding in python? Write a python code to demonstrate method overriding."
   ]
  },
  {
   "cell_type": "markdown",
   "id": "10823a1b-9221-4840-bf00-6187a455270c",
   "metadata": {},
   "source": [
    "Method overriding in Python is a concept of object-oriented programming, where a subclass provides its implementation of a method that is already defined in its superclass.\n",
    "\n",
    "In Python, method overriding is achieved by defining a method in a subclass with the same name and parameters as that of a method in the superclass. When the method is called on an object of the subclass, the implementation in the subclass is executed, overriding the implementation in the superclass."
   ]
  },
  {
   "cell_type": "code",
   "execution_count": 23,
   "id": "db2b4d63-5706-4619-89e6-67667b115fd2",
   "metadata": {},
   "outputs": [
    {
     "name": "stdout",
     "output_type": "stream",
     "text": [
      "Animal is speaking\n",
      "Dog is barking\n",
      "Cat is meowing\n"
     ]
    }
   ],
   "source": [
    "class Animal:\n",
    "    def speak(self):\n",
    "        print(\"Animal is speaking\")\n",
    "\n",
    "class Dog(Animal):\n",
    "    def speak(self):\n",
    "        print(\"Dog is barking\")\n",
    "\n",
    "class Cat(Animal):\n",
    "    def speak(self):\n",
    "        print(\"Cat is meowing\")\n",
    "\n",
    "animal_obj = Animal()\n",
    "dog_obj = Dog()\n",
    "cat_obj = Cat()\n",
    "\n",
    "animal_obj.speak()  \n",
    "dog_obj.speak()    \n",
    "cat_obj.speak()     "
   ]
  }
 ],
 "metadata": {
  "kernelspec": {
   "display_name": "Python 3 (ipykernel)",
   "language": "python",
   "name": "python3"
  },
  "language_info": {
   "codemirror_mode": {
    "name": "ipython",
    "version": 3
   },
   "file_extension": ".py",
   "mimetype": "text/x-python",
   "name": "python",
   "nbconvert_exporter": "python",
   "pygments_lexer": "ipython3",
   "version": "3.10.8"
  }
 },
 "nbformat": 4,
 "nbformat_minor": 5
}
