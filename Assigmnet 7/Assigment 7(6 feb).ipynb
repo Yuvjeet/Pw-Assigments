{
 "cells": [
  {
   "cell_type": "markdown",
   "id": "4b8bfa20-a282-4246-a9cc-c3233a2f1809",
   "metadata": {},
   "source": [
    "Q1. Create a function which will take a list as an argument and return the product of all the numbers\n",
    "after creating a flat list.\n",
    "Use the below-given list as an argument for your function."
   ]
  },
  {
   "cell_type": "code",
   "execution_count": 27,
   "id": "f4bf0167-afdc-4474-a37e-92c5c0de2fbe",
   "metadata": {},
   "outputs": [],
   "source": [
    "def flatten(l):\n",
    "    for i in l:\n",
    "        global flatten_list\n",
    "        if type(i) == int: flatten_list.append(i)\n",
    "        elif type(i) == bool or type(i) == str: continue\n",
    "        elif type(i) == dict:\n",
    "            for key, value in i.items():\n",
    "                if type(key) == int: flatten_list.append(key)\n",
    "                if type(value) == int: flatten_list.append(value)\n",
    "                elif type(value) == bool or type(value) == str: continue\n",
    "                else: flatten(value)\n",
    "        else: flatten(i)"
   ]
  },
  {
   "cell_type": "code",
   "execution_count": 28,
   "id": "147d071e-17c0-4160-8c74-0c276f635290",
   "metadata": {},
   "outputs": [],
   "source": [
    "list1 = [1,2,3,4, [44,55,66, True], False, (34,56,78,89,34), {1,2,3,3,2,1}, {1:34, \"key2\": [55, 67, 78, 89], 4: (45,\n",
    "22, 61, 34)}, [56, 'data science'], 'Machine Learning']\n",
    "flatten_list = []"
   ]
  },
  {
   "cell_type": "code",
   "execution_count": 29,
   "id": "b2b1247b-a677-40db-9967-01c06c6d5e39",
   "metadata": {},
   "outputs": [],
   "source": [
    "flatten(list1)"
   ]
  },
  {
   "cell_type": "code",
   "execution_count": 31,
   "id": "a7cc8af4-b5a2-4c55-bd92-d6ff444d1830",
   "metadata": {},
   "outputs": [
    {
     "name": "stdout",
     "output_type": "stream",
     "text": [
      "4134711838987085478833841242112000\n"
     ]
    }
   ],
   "source": [
    "from functools import reduce\n",
    "print(reduce(lambda x,y: x*y, flatten_list))"
   ]
  },
  {
   "cell_type": "markdown",
   "id": "dfe0000e-5d87-4d2c-b6d9-115dda613f51",
   "metadata": {},
   "source": [
    "Q2. Write a python program for encrypting a message sent to you by your friend. The logic of encryptionshould be such that, for a the output should be z. For b, the output should be y. For c, the output shouldbe x respectively. Also, the whitespace should be replaced with a dollar sign. Keep the punctuationmarks unchanged."
   ]
  },
  {
   "cell_type": "code",
   "execution_count": 46,
   "id": "2c5f935a-3f13-41cd-abe6-6298e2c44a38",
   "metadata": {},
   "outputs": [],
   "source": [
    "def encrypt(s):\n",
    "    encrypted_s = \"\"\n",
    "    for i in s.lower():\n",
    "        if i == 'a': encrypted_s += \"z\"\n",
    "        elif i == 'b': encrypted_s += \"y\"\n",
    "        elif i == \"c\": encrypted_s += \"x\"\n",
    "        elif i == \" \": encrypted_s += \"$\"\n",
    "        else: encrypted_s += i\n",
    "    return encrypted_s"
   ]
  },
  {
   "cell_type": "code",
   "execution_count": 47,
   "id": "8cbd985a-05ef-4065-b77d-51d85535cadf",
   "metadata": {},
   "outputs": [
    {
     "name": "stdout",
     "output_type": "stream",
     "text": [
      "i$wznt$to$yexome$z$dztz$sxientist.\n"
     ]
    }
   ],
   "source": [
    "s = \"I want to become a Data Scientist.\"\n",
    "s = encrypt(s)\n",
    "print(s)"
   ]
  },
  {
   "cell_type": "code",
   "execution_count": null,
   "id": "ecb15a71-5f97-4ceb-b3b4-bb1a4eea5d39",
   "metadata": {},
   "outputs": [],
   "source": []
  }
 ],
 "metadata": {
  "kernelspec": {
   "display_name": "Python 3 (ipykernel)",
   "language": "python",
   "name": "python3"
  },
  "language_info": {
   "codemirror_mode": {
    "name": "ipython",
    "version": 3
   },
   "file_extension": ".py",
   "mimetype": "text/x-python",
   "name": "python",
   "nbconvert_exporter": "python",
   "pygments_lexer": "ipython3",
   "version": "3.10.8"
  }
 },
 "nbformat": 4,
 "nbformat_minor": 5
}
