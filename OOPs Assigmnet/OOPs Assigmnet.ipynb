{
 "cells": [
  {
   "cell_type": "markdown",
   "id": "091f38ba-92bd-4bd2-8d7c-1bdd0cce33c4",
   "metadata": {},
   "source": [
    "Q1. Explain Class and Object with respect to Object-Oriented Programming. Give a suitable example."
   ]
  },
  {
   "cell_type": "markdown",
   "id": "3b8b7db8-4884-4f89-b506-6daa0ab393e5",
   "metadata": {},
   "source": [
    "In object-oriented programming (OOP), a class is a blueprint or a template that defines a set of attributes and behaviors that an object of that class should possess. An object, on the other hand, is an instance of a class. In other words, an object is a concrete realization of a class, with its own set of attributes and behaviors.\n",
    "To give an example, let's consider a class called Dog. The Dog class can have attributes such as color, gender, breed, age as well as behaviors such as bark, run, walk, and eat."
   ]
  },
  {
   "cell_type": "code",
   "execution_count": 2,
   "id": "e9a5e613-aa97-4bbc-9b9d-456607e29371",
   "metadata": {},
   "outputs": [],
   "source": [
    "class Dog:\n",
    "    def __init__(self, colour, gender, breed, age):\n",
    "        self.colour = colour\n",
    "        self.gender = gender\n",
    "        self.breed = breed\n",
    "        self.age = age\n",
    "    def bark(self):\n",
    "        print(\"Bhow Bhow\")\n",
    "    def run(self):\n",
    "        print(\"Sprinting\")\n",
    "    def walk(self):\n",
    "        print(\"Walking\")\n",
    "    def eat(self):\n",
    "        print(\"Eat\")"
   ]
  },
  {
   "cell_type": "code",
   "execution_count": 3,
   "id": "e7b2567c-698d-4c77-b5ed-5c995511252e",
   "metadata": {},
   "outputs": [
    {
     "name": "stdout",
     "output_type": "stream",
     "text": [
      "Bhow Bhow\n",
      "Sprinting\n",
      "Walking\n",
      "Eat\n"
     ]
    }
   ],
   "source": [
    "goofy = Dog(\"black\", \"M\", \"Labradour\", 6)\n",
    "goofy.bark()\n",
    "goofy.run()\n",
    "goofy.walk()\n",
    "goofy.eat()"
   ]
  },
  {
   "cell_type": "markdown",
   "id": "4e0d5de6-aca6-4d29-b495-ace147a6246e",
   "metadata": {},
   "source": [
    "Q2. Name the four pillars of OOPs."
   ]
  },
  {
   "cell_type": "markdown",
   "id": "93a3afb5-5e3c-4601-add4-bf52d5e22d29",
   "metadata": {},
   "source": [
    "The four pillars of object-oriented programming (OOP) are:\n",
    "\n",
    "1.Encapsulation: This is the practice of hiding the implementation details of an object and exposing only the necessary information to the user. In other words, it involves bundling the data (attributes) and methods (behaviors) that manipulate that data into a single unit (class). This allows for better organization, reusability, and security of code.\n",
    "\n",
    "2.Abstraction: This is the process of focusing on the essential features of an object and ignoring its non-essential or irrelevant details. In OOP, abstraction is achieved through the use of abstract classes and interfaces, which define the common characteristics of a group of objects without specifying their implementation details.\n",
    "\n",
    "3.Inheritance: This is the mechanism by which a new class is derived from an existing class. The new class (called the subclass or derived class) inherits all the properties (attributes and methods) of the existing class (called the superclass or base class) and can add new properties or modify existing ones. Inheritance allows for code reuse, modularity, and polymorphism.\n",
    "\n",
    "4.Polymorphism: This is the ability of objects of different classes to be used interchangeably, as long as they implement the same interface or have a common superclass. In OOP, polymorphism is achieved through method overriding (when a method in a subclass has the same name and signature as a method in its superclass) and method overloading (when a method has the same name but different parameters in the same class). Polymorphism allows for flexibility and extensibility of code."
   ]
  },
  {
   "cell_type": "markdown",
   "id": "8f6f25f1-f119-4882-8fdc-d9cdf60ed41f",
   "metadata": {},
   "source": [
    "Q3. Explain why the __init__() function is used. Give a suitable example."
   ]
  },
  {
   "cell_type": "markdown",
   "id": "86cafdf8-1df2-4aa0-8ba9-24268b1a861f",
   "metadata": {},
   "source": [
    "The __init__() function is a special method in Python classes, which is called automatically when an object of that class is created. It is used to initialize or set the initial values of the attributes (data members) of the object.\n",
    "\n",
    "The __init__() method is used to define the initial state of an object when it is created. It can take parameters and assign them to the object's attributes."
   ]
  },
  {
   "cell_type": "code",
   "execution_count": 4,
   "id": "3a987cad-f9dc-43f4-bd0f-47f3e9c09efa",
   "metadata": {},
   "outputs": [],
   "source": [
    "class person:\n",
    "    def __init__(self, name, age, gender):\n",
    "        self.name = name\n",
    "        self.age = age\n",
    "        self.gender = gender\n",
    "    def info(self):\n",
    "        print(\"Name = \", self.name, \"\\nAge = \", self.age, \"\\nGender = \",self.gender)"
   ]
  },
  {
   "cell_type": "code",
   "execution_count": 5,
   "id": "d521c6f0-ca08-43e0-9761-a75750e2db82",
   "metadata": {},
   "outputs": [
    {
     "name": "stdout",
     "output_type": "stream",
     "text": [
      "Name =  Yuvjeet \n",
      "Age =  19 \n",
      "Gender =  M\n"
     ]
    }
   ],
   "source": [
    "person1 = person(\"Yuvjeet\", 19, \"M\")\n",
    "person1.info()"
   ]
  },
  {
   "cell_type": "markdown",
   "id": "264dd396-96dd-4613-8d82-5d1c30905a04",
   "metadata": {},
   "source": [
    "Q4. Why self is used in OOPs?"
   ]
  },
  {
   "cell_type": "markdown",
   "id": "27cfb31d-955e-4e2e-80d2-ba70d8410f0b",
   "metadata": {},
   "source": [
    "In object-oriented programming (OOP), the concept of self refers to the instance of a class that is currently being manipulated or accessed. It is used to access the attributes and methods of that particular instance."
   ]
  },
  {
   "cell_type": "markdown",
   "id": "eb3b8ded-8719-4aa5-879a-2b3ad1af9a02",
   "metadata": {},
   "source": [
    "Q5. What is inheritance? Give an example for each type of inheritance."
   ]
  },
  {
   "cell_type": "markdown",
   "id": "13371320-0524-4b00-911a-b8e1b6ee38ec",
   "metadata": {},
   "source": [
    "Inheritance is a fundamental concept in object-oriented programming that allows classes to inherit properties and behaviors from other classes. Inheritance creates a parent-child relationship between classes, where the child class inherits properties and methods from the parent class.\n",
    "There are several types of inheritance:"
   ]
  },
  {
   "cell_type": "markdown",
   "id": "449d1792-d6ed-49e5-a5c7-2a86c65fb500",
   "metadata": {},
   "source": [
    "1.Single Inheritance : In single inheritance, a child class inherits properties and methods from only one parent class."
   ]
  },
  {
   "cell_type": "code",
   "execution_count": 6,
   "id": "f707cf0a-83df-4ab0-9ed9-23887dbe0c5a",
   "metadata": {},
   "outputs": [
    {
     "name": "stdout",
     "output_type": "stream",
     "text": [
      "The animal is eating.\n",
      "The dog is barking.\n"
     ]
    }
   ],
   "source": [
    "class Animal:\n",
    "    def eat(self):\n",
    "        print(\"The animal is eating.\")\n",
    "\n",
    "class Dog(Animal):\n",
    "    def bark(self):\n",
    "        print(\"The dog is barking.\")\n",
    "\n",
    "my_dog = Dog()\n",
    "my_dog.eat() \n",
    "my_dog.bark() "
   ]
  },
  {
   "cell_type": "markdown",
   "id": "3d529b8a-63be-413f-995e-53633b9f9b8a",
   "metadata": {},
   "source": [
    "2.Multiple Inheritance: In multiple inheritance, a child class inherits properties and methods from multiple parent classes."
   ]
  },
  {
   "cell_type": "code",
   "execution_count": 7,
   "id": "08f83c1d-d21f-4f50-8700-769defbad672",
   "metadata": {},
   "outputs": [
    {
     "name": "stdout",
     "output_type": "stream",
     "text": [
      "The animal is eating.\n",
      "The mammal is running.\n",
      "The dog is barking.\n"
     ]
    }
   ],
   "source": [
    "class Animal:\n",
    "    def eat(self):\n",
    "        print(\"The animal is eating.\")\n",
    "\n",
    "class Mammal:\n",
    "    def run(self):\n",
    "        print(\"The mammal is running.\")\n",
    "\n",
    "class Dog(Animal, Mammal):\n",
    "    def bark(self):\n",
    "        print(\"The dog is barking.\")\n",
    "\n",
    "my_dog = Dog()\n",
    "my_dog.eat() \n",
    "my_dog.run() \n",
    "my_dog.bark() "
   ]
  },
  {
   "cell_type": "markdown",
   "id": "104cf8af-6d07-4093-8d2b-632c245df92f",
   "metadata": {},
   "source": [
    "3.Hierarchical Inheritance: In hierarchical inheritance, multiple child classes inherit properties and methods from a single parent class."
   ]
  },
  {
   "cell_type": "code",
   "execution_count": 8,
   "id": "3cb19fb6-8baa-4133-911b-d6747b2c0acb",
   "metadata": {},
   "outputs": [
    {
     "name": "stdout",
     "output_type": "stream",
     "text": [
      "The animal is eating.\n",
      "The cat is meowing.\n",
      "The animal is eating.\n",
      "The dog is barking.\n"
     ]
    }
   ],
   "source": [
    "class Animal:\n",
    "    def eat(self):\n",
    "        print(\"The animal is eating.\")\n",
    "\n",
    "class Cat(Animal):\n",
    "    def meow(self):\n",
    "        print(\"The cat is meowing.\")\n",
    "\n",
    "class Dog(Animal):\n",
    "    def bark(self):\n",
    "        print(\"The dog is barking.\")\n",
    "\n",
    "my_cat = Cat()\n",
    "my_cat.eat() \n",
    "my_cat.meow() \n",
    "my_dog = Dog()\n",
    "my_dog.eat() \n",
    "my_dog.bark() "
   ]
  },
  {
   "cell_type": "markdown",
   "id": "8614e1e4-68a9-4f22-b581-da4053a1cf4f",
   "metadata": {},
   "source": [
    "4.Multilevel Inheritance: In multilevel inheritance, a child class inherits properties and methods from a parent class, which in turn inherits properties and methods from its own parent class."
   ]
  },
  {
   "cell_type": "code",
   "execution_count": 9,
   "id": "f2b37fba-c34a-4704-8c46-621bc781fcc3",
   "metadata": {},
   "outputs": [
    {
     "name": "stdout",
     "output_type": "stream",
     "text": [
      "The animal is eating.\n",
      "The mammal is running.\n",
      "The dog is barking.\n"
     ]
    }
   ],
   "source": [
    "class Animal:\n",
    "    def eat(self):\n",
    "        print(\"The animal is eating.\")\n",
    "\n",
    "class Mammal(Animal):\n",
    "    def run(self):\n",
    "        print(\"The mammal is running.\")\n",
    "\n",
    "class Dog(Mammal):\n",
    "    def bark(self):\n",
    "        print(\"The dog is barking.\")\n",
    "\n",
    "my_dog = Dog()\n",
    "my_dog.eat() \n",
    "my_dog.run()\n",
    "my_dog.bark()"
   ]
  },
  {
   "cell_type": "code",
   "execution_count": null,
   "id": "250ab254-f686-4b87-a476-79f11f9518af",
   "metadata": {},
   "outputs": [],
   "source": []
  }
 ],
 "metadata": {
  "kernelspec": {
   "display_name": "Python 3 (ipykernel)",
   "language": "python",
   "name": "python3"
  },
  "language_info": {
   "codemirror_mode": {
    "name": "ipython",
    "version": 3
   },
   "file_extension": ".py",
   "mimetype": "text/x-python",
   "name": "python",
   "nbconvert_exporter": "python",
   "pygments_lexer": "ipython3",
   "version": "3.10.8"
  }
 },
 "nbformat": 4,
 "nbformat_minor": 5
}
