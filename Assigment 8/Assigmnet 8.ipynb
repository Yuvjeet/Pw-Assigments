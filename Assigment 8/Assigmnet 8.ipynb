{
 "cells": [
  {
   "cell_type": "markdown",
   "id": "a1d9b4fb-9a09-40d7-ada6-d437afc6d0b8",
   "metadata": {},
   "source": [
    "Q1. You are writing code for a company. The requirement of the company is that you create a python function that will check whether the password entered by the user is correct or not. The function shouldtake the password as input and return the string “Valid Password” if the entered password follows the below-given password guidelines else it should return “Invalid Password”.\n",
    "Note:<br> \n",
    "1.The Password should contain at least two uppercase letters and at least two lowercase letters.<br>\n",
    "2.The Password should contain at least a number and three special characters.<br>\n",
    "3.The length of the password should be 10 characters long."
   ]
  },
  {
   "cell_type": "code",
   "execution_count": 10,
   "id": "b15bb9bd-b2e6-407f-915f-1937355bb441",
   "metadata": {},
   "outputs": [],
   "source": [
    "def valid(s):\n",
    "    upper_case = 0\n",
    "    special_chr = 0\n",
    "    length = 0\n",
    "    for i in s:\n",
    "        length += 1\n",
    "        if i.isupper(): upper_case += 1\n",
    "        if (ord(i) <= 65 and ord(i) <= 90) or (ord(i) >= 97 and ord(i) <= 122):\n",
    "            continue\n",
    "        special_chr += 1\n",
    "    return upper_case >= 2 and special_chr >=3 and length >= 10 "
   ]
  },
  {
   "cell_type": "code",
   "execution_count": 11,
   "id": "bf5e42bf-ad25-45ed-9d34-73f3a5f0e7b2",
   "metadata": {},
   "outputs": [
    {
     "name": "stdin",
     "output_type": "stream",
     "text": [
      "Enter The password:  Yuvjeet_@RoR@\n"
     ]
    },
    {
     "name": "stdout",
     "output_type": "stream",
     "text": [
      "Valid Password\n"
     ]
    }
   ],
   "source": [
    "password = input(\"Enter The password: \")\n",
    "if valid(password): print(\"Valid Password\")\n",
    "else: print(\"Invalid Password\")"
   ]
  },
  {
   "cell_type": "markdown",
   "id": "870536e8-e5c3-44bc-8367-922ab88991ad",
   "metadata": {},
   "source": [
    "Q2. Solve the below-given questions using at least one of the following:<br>\n",
    "1. Lambda function<br>\n",
    "2. Filter function<br>\n",
    "3. Zap function<br>\n",
    "4. List Comprehension<br>\n",
    "Check if the string starts with a particular letter.<br>\n",
    "Check if the string is numeric.<br>\n",
    "Sort a list of tuples having fruit names and their quantity. [(\"mango\",99),(\"orange\",80), (\"grapes\", 1000)-<br>\n",
    "Find the squares of numbers from 1 to 10Y<br>\n",
    "Find the cube root of numbers from 1 to 10Y<br>\n",
    "Check if a given number is evenY<br>\n",
    "Filter odd numbers from the given list.<br>\n",
    "[1,2,3,4,5,6,7,8,9,10-<br>\n",
    "Sort a list of integers into positive and negative integers lists.<br>\n",
    "[1,2,3,4,5,6,-1,-2,-3,-4,-5,0]<br>"
   ]
  },
  {
   "cell_type": "code",
   "execution_count": 12,
   "id": "7f8bb957-68f5-4024-883c-1603b3f0daa7",
   "metadata": {},
   "outputs": [
    {
     "name": "stdin",
     "output_type": "stream",
     "text": [
      "Enter A String:  Yuvjeet\n"
     ]
    },
    {
     "data": {
      "text/plain": [
       "[True]"
      ]
     },
     "execution_count": 12,
     "metadata": {},
     "output_type": "execute_result"
    }
   ],
   "source": [
    "[True if input(\"Enter A String: \")[0] == 'Y' else False]"
   ]
  },
  {
   "cell_type": "code",
   "execution_count": 1,
   "id": "4267560e-5e0f-4387-b507-f57d9cc131ff",
   "metadata": {},
   "outputs": [
    {
     "name": "stdout",
     "output_type": "stream",
     "text": [
      "True\n"
     ]
    }
   ],
   "source": [
    "string = \"123\"\n",
    "check_numeric = lambda x: True if x.isnumeric() else False\n",
    "print(check_numeric(string))"
   ]
  },
  {
   "cell_type": "code",
   "execution_count": 2,
   "id": "12f34c6f-60c0-4ca8-9459-ce14fe735e31",
   "metadata": {},
   "outputs": [
    {
     "name": "stdout",
     "output_type": "stream",
     "text": [
      "[('orange', 80), ('mango', 99), ('grapes', 1000)]\n"
     ]
    }
   ],
   "source": [
    "fruits = [(\"mango\",99),(\"orange\",80), (\"grapes\", 1000)]\n",
    "sorted_fruits = sorted(fruits, key=lambda x: x[1])\n",
    "print(sorted_fruits)"
   ]
  },
  {
   "cell_type": "code",
   "execution_count": 3,
   "id": "2afbbd3e-77f4-42f3-9063-03ac947ffc5b",
   "metadata": {},
   "outputs": [
    {
     "name": "stdout",
     "output_type": "stream",
     "text": [
      "[1, 4, 9, 16, 25, 36, 49, 64, 81, 100]\n"
     ]
    }
   ],
   "source": [
    "squares = [i*i for i in range(1, 11)]\n",
    "print(squares)"
   ]
  },
  {
   "cell_type": "code",
   "execution_count": 4,
   "id": "393c5281-5534-4970-98ec-ed72a6d48d41",
   "metadata": {},
   "outputs": [
    {
     "name": "stdout",
     "output_type": "stream",
     "text": [
      "[1.0, 1.2599210498948732, 1.4422495703074083, 1.5874010519681994, 1.7099759466766968, 1.8171205928321397, 1.912931182772389, 2.0, 2.080083823051904, 2.154434690031884]\n"
     ]
    }
   ],
   "source": [
    "import math\n",
    "cube_roots = [math.pow(i, 1/3) for i in range(1, 11)]\n",
    "print(cube_roots)"
   ]
  },
  {
   "cell_type": "code",
   "execution_count": 5,
   "id": "094ec47f-1e92-402d-b272-07ef53d06040",
   "metadata": {},
   "outputs": [
    {
     "name": "stdout",
     "output_type": "stream",
     "text": [
      "True\n"
     ]
    }
   ],
   "source": [
    "num = 10\n",
    "check_even = lambda x: True if x % 2 == 0 else False\n",
    "print(check_even(num))"
   ]
  },
  {
   "cell_type": "code",
   "execution_count": 6,
   "id": "0edf7b36-3e03-45b1-8462-adee0b4e6873",
   "metadata": {},
   "outputs": [
    {
     "name": "stdout",
     "output_type": "stream",
     "text": [
      "[1, 3, 5, 7, 9]\n"
     ]
    }
   ],
   "source": [
    "numbers = [1,2,3,4,5,6,7,8,9,10]\n",
    "odd_numbers = list(filter(lambda x: x % 2 != 0, numbers))\n",
    "print(odd_numbers)"
   ]
  },
  {
   "cell_type": "code",
   "execution_count": 7,
   "id": "698c0b3b-e1f1-46e3-aedc-f14fd64c4e8c",
   "metadata": {},
   "outputs": [
    {
     "name": "stdout",
     "output_type": "stream",
     "text": [
      "[1, 2, 3, 4, 5, 6]\n",
      "[-1, -2, -3, -4, -5]\n"
     ]
    }
   ],
   "source": [
    "numbers = [1,2,3,4,5,6,-1,-2,-3,-4,-5,0]\n",
    "positive_numbers = [num for num in numbers if num > 0]\n",
    "negative_numbers = [num for num in numbers if num < 0]\n",
    "print(positive_numbers)\n",
    "print(negative_numbers)"
   ]
  },
  {
   "cell_type": "code",
   "execution_count": null,
   "id": "cc4e4863-f7cf-4747-bba1-c42c746584e3",
   "metadata": {},
   "outputs": [],
   "source": []
  }
 ],
 "metadata": {
  "kernelspec": {
   "display_name": "Python 3 (ipykernel)",
   "language": "python",
   "name": "python3"
  },
  "language_info": {
   "codemirror_mode": {
    "name": "ipython",
    "version": 3
   },
   "file_extension": ".py",
   "mimetype": "text/x-python",
   "name": "python",
   "nbconvert_exporter": "python",
   "pygments_lexer": "ipython3",
   "version": "3.10.8"
  }
 },
 "nbformat": 4,
 "nbformat_minor": 5
}
