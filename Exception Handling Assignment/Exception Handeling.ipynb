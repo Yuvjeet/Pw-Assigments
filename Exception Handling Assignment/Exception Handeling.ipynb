{
 "cells": [
  {
   "cell_type": "markdown",
   "id": "c4e56b8c-53fc-4574-ac78-15d26ae02d70",
   "metadata": {},
   "source": [
    "Q1. What is an Exception in python ? Write the differnce between Exceptions and Syntax errors."
   ]
  },
  {
   "cell_type": "markdown",
   "id": "9f30c6a5-7b12-4e60-9830-1ddea3896be7",
   "metadata": {},
   "source": [
    "Ans. In Python, an Exception is an error that occurs during the execution of a program. When a program encounters an error, it raises an Exception object that contains information about the error, such as the type of error and where it occurred in the code. The Exception object can then be caught and handled by the program to gracefully deal with the error, instead of causing the program to crash.\n",
    "\n",
    "On the other hand, Syntax errors occur when there is a mistake in the syntax of the code that makes it impossible for the interpreter to parse and execute the code. Syntax errors occur during the compilation phase of the program, before the program is run. Common syntax errors include missing or mismatched parentheses, missing or misspelled keywords, and incorrect indentation.\n",
    "\n",
    "The main difference between Exceptions and Syntax errors is that Exceptions occur during the execution of a program, while Syntax errors occur during the compilation of the program. Exceptions are caused by logical errors or external factors such as incorrect user input or network errors, while Syntax errors are caused by mistakes in the syntax of the code.\n",
    "\n",
    "When a program encounters a Syntax error, it will not be able to execute the code and will display an error message that indicates where the syntax error occurred. When a program encounters an Exception, it will raise an Exception object, which can be caught and handled by the program using a try-except block."
   ]
  },
  {
   "cell_type": "markdown",
   "id": "ff4ddb6e-0f60-4e5b-a7d6-3e29c2ced056",
   "metadata": {},
   "source": [
    "Q2. What happen when an exception is not handled ? Explain with an example."
   ]
  },
  {
   "cell_type": "markdown",
   "id": "6e0eea9c-d368-4524-8401-896d3e81cabe",
   "metadata": {},
   "source": [
    "Ans. When an exception is not handled, it will propagate up the call stack until it is either caught by a try-catch block or it reaches the top-level of the program and causes the program to terminate abnormally."
   ]
  },
  {
   "cell_type": "code",
   "execution_count": 1,
   "id": "277cfc7f-1e5f-4c89-8f17-aadb3640eaff",
   "metadata": {},
   "outputs": [
    {
     "ename": "ZeroDivisionError",
     "evalue": "division by zero",
     "output_type": "error",
     "traceback": [
      "\u001b[0;31m---------------------------------------------------------------------------\u001b[0m",
      "\u001b[0;31mZeroDivisionError\u001b[0m                         Traceback (most recent call last)",
      "Cell \u001b[0;32mIn[1], line 7\u001b[0m\n\u001b[1;32m      5\u001b[0m     result \u001b[38;5;241m=\u001b[39m divide(\u001b[38;5;241m10\u001b[39m, \u001b[38;5;241m0\u001b[39m)\n\u001b[1;32m      6\u001b[0m     \u001b[38;5;28mprint\u001b[39m(\u001b[38;5;124m\"\u001b[39m\u001b[38;5;124mResult is:\u001b[39m\u001b[38;5;124m\"\u001b[39m, result)\n\u001b[0;32m----> 7\u001b[0m \u001b[43mcalculate\u001b[49m\u001b[43m(\u001b[49m\u001b[43m)\u001b[49m\n",
      "Cell \u001b[0;32mIn[1], line 5\u001b[0m, in \u001b[0;36mcalculate\u001b[0;34m()\u001b[0m\n\u001b[1;32m      4\u001b[0m \u001b[38;5;28;01mdef\u001b[39;00m \u001b[38;5;21mcalculate\u001b[39m():\n\u001b[0;32m----> 5\u001b[0m     result \u001b[38;5;241m=\u001b[39m \u001b[43mdivide\u001b[49m\u001b[43m(\u001b[49m\u001b[38;5;241;43m10\u001b[39;49m\u001b[43m,\u001b[49m\u001b[43m \u001b[49m\u001b[38;5;241;43m0\u001b[39;49m\u001b[43m)\u001b[49m\n\u001b[1;32m      6\u001b[0m     \u001b[38;5;28mprint\u001b[39m(\u001b[38;5;124m\"\u001b[39m\u001b[38;5;124mResult is:\u001b[39m\u001b[38;5;124m\"\u001b[39m, result)\n",
      "Cell \u001b[0;32mIn[1], line 2\u001b[0m, in \u001b[0;36mdivide\u001b[0;34m(a, b)\u001b[0m\n\u001b[1;32m      1\u001b[0m \u001b[38;5;28;01mdef\u001b[39;00m \u001b[38;5;21mdivide\u001b[39m(a, b):\n\u001b[0;32m----> 2\u001b[0m     \u001b[38;5;28;01mreturn\u001b[39;00m \u001b[43ma\u001b[49m\u001b[43m \u001b[49m\u001b[38;5;241;43m/\u001b[39;49m\u001b[43m \u001b[49m\u001b[43mb\u001b[49m\n",
      "\u001b[0;31mZeroDivisionError\u001b[0m: division by zero"
     ]
    }
   ],
   "source": [
    "def divide(a, b):\n",
    "    return a / b\n",
    "\n",
    "def calculate():\n",
    "    result = divide(10, 0)\n",
    "    print(\"Result is:\", result)\n",
    "calculate()"
   ]
  },
  {
   "cell_type": "markdown",
   "id": "f237a50b-dc83-4299-9a8a-b1fc8edf654e",
   "metadata": {},
   "source": [
    "Q3. Which python statement are used to catch and handle exceptions ? Explain with an example."
   ]
  },
  {
   "cell_type": "markdown",
   "id": "78201cbb-38eb-49e1-831f-46377133e4e8",
   "metadata": {},
   "source": [
    "Ans. The try and except block in Python is used to catch and handle exceptions. Python executes code following the try statement as a “normal” part of the program. The code that follows the except statement is the program’s response to any exceptions in the preceding try clause."
   ]
  },
  {
   "cell_type": "code",
   "execution_count": 2,
   "id": "6fb5ea02-ae42-47bd-9fac-dd8df4b22fd1",
   "metadata": {},
   "outputs": [
    {
     "name": "stdout",
     "output_type": "stream",
     "text": [
      "Error: Cannot divide by zero\n"
     ]
    }
   ],
   "source": [
    "def divide(a, b):\n",
    "    try:\n",
    "        return a / b\n",
    "    except ZeroDivisionError:\n",
    "        print(\"Error: Cannot divide by zero\")\n",
    "        return None\n",
    "\n",
    "result = divide(10, 0)\n",
    "if result is not None:\n",
    "    print(\"Result is:\", result)\n"
   ]
  },
  {
   "cell_type": "markdown",
   "id": "950e5049-e7ad-453c-8cdc-896460c9a7a6",
   "metadata": {},
   "source": [
    "Q4. Explain with an example:<br>\n",
    "a. try and else<br>\n",
    "b. finally<br>\n",
    "c. raise<br>"
   ]
  },
  {
   "cell_type": "markdown",
   "id": "5e5e63c5-e471-46e0-8980-cf52403d6af3",
   "metadata": {},
   "source": [
    "a. try and else are used in exception handling in Python. The code inside the try block is executed, and if an exception occurs, it is caught by the except block. The else block is executed if there is no exception raised in the try block."
   ]
  },
  {
   "cell_type": "code",
   "execution_count": 3,
   "id": "1eb2bb1c-6aac-4f4d-8cc2-604575546f45",
   "metadata": {},
   "outputs": [
    {
     "name": "stdin",
     "output_type": "stream",
     "text": [
      "Enter a number:  10\n"
     ]
    },
    {
     "name": "stdout",
     "output_type": "stream",
     "text": [
      "Result is: 10.0\n"
     ]
    }
   ],
   "source": [
    "try:\n",
    "    num = int(input(\"Enter a number: \"))\n",
    "    result = 100/num\n",
    "except ZeroDivisionError:\n",
    "    print(\"Cannot divide by zero\")\n",
    "else:\n",
    "    print(\"Result is:\", result)\n"
   ]
  },
  {
   "cell_type": "markdown",
   "id": "8f3c5734-5558-4474-9717-4487e2f500fc",
   "metadata": {},
   "source": [
    "b. finally is used to define a block of code that will be executed regardless of whether an exception is raised or not. This is useful for cleaning up resources, such as closing a file or a database connection."
   ]
  },
  {
   "cell_type": "code",
   "execution_count": 5,
   "id": "df8d38ac-0c97-4c7a-8822-a7f0177bee16",
   "metadata": {},
   "outputs": [
    {
     "name": "stdout",
     "output_type": "stream",
     "text": [
      "File not found\n",
      "Finally executed\n"
     ]
    }
   ],
   "source": [
    "try:\n",
    "    file = open(\"example.txt\", \"r\")\n",
    "except FileNotFoundError:\n",
    "    print(\"File not found\")\n",
    "finally:\n",
    "    print(\"Finally executed\")"
   ]
  },
  {
   "cell_type": "markdown",
   "id": "42eebeb4-a29e-4787-bbee-1cec1a8e1453",
   "metadata": {},
   "source": [
    "c.raise is used to raise an exception manually in Python. This is useful when you want to raise a specific type of exception for a particular error condition."
   ]
  },
  {
   "cell_type": "code",
   "execution_count": 6,
   "id": "daed3c1e-940b-4d45-b3af-70177ce601e4",
   "metadata": {},
   "outputs": [
    {
     "ename": "ZeroDivisionError",
     "evalue": "Cannot divide by zero",
     "output_type": "error",
     "traceback": [
      "\u001b[0;31m---------------------------------------------------------------------------\u001b[0m",
      "\u001b[0;31mZeroDivisionError\u001b[0m                         Traceback (most recent call last)",
      "Cell \u001b[0;32mIn[6], line 6\u001b[0m\n\u001b[1;32m      3\u001b[0m         \u001b[38;5;28;01mraise\u001b[39;00m \u001b[38;5;167;01mZeroDivisionError\u001b[39;00m(\u001b[38;5;124m\"\u001b[39m\u001b[38;5;124mCannot divide by zero\u001b[39m\u001b[38;5;124m\"\u001b[39m)\n\u001b[1;32m      4\u001b[0m     \u001b[38;5;28;01mreturn\u001b[39;00m num1 \u001b[38;5;241m/\u001b[39m num2\n\u001b[0;32m----> 6\u001b[0m \u001b[38;5;28mprint\u001b[39m(\u001b[43mdivide\u001b[49m\u001b[43m(\u001b[49m\u001b[38;5;241;43m10\u001b[39;49m\u001b[43m,\u001b[49m\u001b[43m \u001b[49m\u001b[38;5;241;43m0\u001b[39;49m\u001b[43m)\u001b[49m)\n",
      "Cell \u001b[0;32mIn[6], line 3\u001b[0m, in \u001b[0;36mdivide\u001b[0;34m(num1, num2)\u001b[0m\n\u001b[1;32m      1\u001b[0m \u001b[38;5;28;01mdef\u001b[39;00m \u001b[38;5;21mdivide\u001b[39m(num1, num2):\n\u001b[1;32m      2\u001b[0m     \u001b[38;5;28;01mif\u001b[39;00m num2 \u001b[38;5;241m==\u001b[39m \u001b[38;5;241m0\u001b[39m:\n\u001b[0;32m----> 3\u001b[0m         \u001b[38;5;28;01mraise\u001b[39;00m \u001b[38;5;167;01mZeroDivisionError\u001b[39;00m(\u001b[38;5;124m\"\u001b[39m\u001b[38;5;124mCannot divide by zero\u001b[39m\u001b[38;5;124m\"\u001b[39m)\n\u001b[1;32m      4\u001b[0m     \u001b[38;5;28;01mreturn\u001b[39;00m num1 \u001b[38;5;241m/\u001b[39m num2\n",
      "\u001b[0;31mZeroDivisionError\u001b[0m: Cannot divide by zero"
     ]
    }
   ],
   "source": [
    "def divide(num1, num2):\n",
    "    if num2 == 0:\n",
    "        raise ZeroDivisionError(\"Cannot divide by zero\")\n",
    "    return num1 / num2\n",
    "\n",
    "print(divide(10, 0))"
   ]
  },
  {
   "cell_type": "markdown",
   "id": "3369d9a2-03c2-412d-9b8c-e6ab98ca0d5a",
   "metadata": {},
   "source": [
    "Q5. What are custom Exception in python ? Why do we need Custom Exceptions ? Explain with an example."
   ]
  },
  {
   "cell_type": "markdown",
   "id": "c9544f00-0fd4-44ec-be0a-80d16f6deb04",
   "metadata": {},
   "source": [
    "Ans.In Python, custom exceptions are exceptions that you can create and raise yourself when a particular error condition occurs in your code. These exceptions are defined using the class keyword and they inherit from the built-in Exception class.\n",
    "\n",
    "Custom exceptions are useful when you want to provide more detailed information about an error that occurs in your code. For example, if you're writing a program that reads data from a file, you might want to raise a custom exception if the file doesn't exist or if it's in the wrong format. This can help you to handle errors more gracefully and provide better feedback to the user."
   ]
  },
  {
   "cell_type": "code",
   "execution_count": 7,
   "id": "209addc0-7af9-4650-a50c-8f690d3fc985",
   "metadata": {},
   "outputs": [],
   "source": [
    "class InvalidInputError(Exception):\n",
    "    def __init__(self, input_value):\n",
    "        self.input_value = input_value\n",
    "\n",
    "    def __str__(self):\n",
    "        return f\"Invalid input value: {self.input_value}\""
   ]
  },
  {
   "cell_type": "code",
   "execution_count": 8,
   "id": "9eaf91f7-184d-4c06-a2a6-f45b1c0489e4",
   "metadata": {},
   "outputs": [
    {
     "name": "stdout",
     "output_type": "stream",
     "text": [
      "Invalid input value: 0\n"
     ]
    }
   ],
   "source": [
    "def divide_numbers(a, b):\n",
    "    if b == 0:\n",
    "        raise InvalidInputError(b)\n",
    "    return a / b\n",
    "\n",
    "try:\n",
    "    result = divide_numbers(10, 0)\n",
    "except InvalidInputError as e:\n",
    "    print(e)\n"
   ]
  },
  {
   "cell_type": "markdown",
   "id": "17f9dd86-414a-4f19-88a9-ddff8f8ff329",
   "metadata": {},
   "source": [
    "Q6. Create a custom exception class. Use this class to handle an exception."
   ]
  },
  {
   "cell_type": "code",
   "execution_count": 9,
   "id": "efd7405f-7a10-4b1b-892a-beac719aaef8",
   "metadata": {},
   "outputs": [
    {
     "name": "stdout",
     "output_type": "stream",
     "text": [
      "Cannot calculate square root of negative number\n"
     ]
    }
   ],
   "source": [
    "class NegativeNumberError(Exception):\n",
    "    pass\n",
    "\n",
    "def square_root(n):\n",
    "    if n < 0:\n",
    "        raise NegativeNumberError(\"Cannot calculate square root of negative number\")\n",
    "    return n ** 0.5\n",
    "\n",
    "try:\n",
    "    result = square_root(-4)\n",
    "    print(result)\n",
    "except NegativeNumberError as e:\n",
    "    print(e)"
   ]
  }
 ],
 "metadata": {
  "kernelspec": {
   "display_name": "Python 3 (ipykernel)",
   "language": "python",
   "name": "python3"
  },
  "language_info": {
   "codemirror_mode": {
    "name": "ipython",
    "version": 3
   },
   "file_extension": ".py",
   "mimetype": "text/x-python",
   "name": "python",
   "nbconvert_exporter": "python",
   "pygments_lexer": "ipython3",
   "version": "3.10.8"
  }
 },
 "nbformat": 4,
 "nbformat_minor": 5
}
