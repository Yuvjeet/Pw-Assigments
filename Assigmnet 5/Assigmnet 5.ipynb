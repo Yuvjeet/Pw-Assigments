{
 "cells": [
  {
   "cell_type": "markdown",
   "id": "2807d5f9-6bac-49d5-af14-d22389a2db6a",
   "metadata": {},
   "source": [
    "Q1. Who developed python programing language ?"
   ]
  },
  {
   "cell_type": "markdown",
   "id": "7f4f24f1-1a5c-44b0-981f-4aa6eca7fd95",
   "metadata": {},
   "source": [
    "Python was developed by Guido van Rossum, a Dutch programmer, in the late 1980s and early 1990s. He started working on Python in December 1989 and released the first version of Python (version 0.9.0) in February 1991. Since then, Python has undergone many changes and improvements and has become one of the most popular programming languages in the world."
   ]
  },
  {
   "cell_type": "markdown",
   "id": "1e0665cd-8340-4050-8b43-fcc248a0ec12",
   "metadata": {},
   "source": [
    "Q2. which type of programming language does python support ?"
   ]
  },
  {
   "cell_type": "markdown",
   "id": "e5c15c4c-1620-4d96-a787-e0f4460e0141",
   "metadata": {},
   "source": [
    "Python is a high-level, interpreted, and general-purpose programming language that supports a wide range of programming paradigms, including:\n",
    "\n",
    "Procedural programming\n",
    "Object-oriented programming\n",
    "Functional programming\n",
    "Aspect-oriented programming\n",
    "\n",
    "Python also supports various programming constructs such as conditional statements, loops, functions, classes, and exception handling. Its simplicity and readability make it an excellent language for beginners, while its vast array of libraries and frameworks make it suitable for advanced developers."
   ]
  },
  {
   "cell_type": "markdown",
   "id": "550ac8ee-6aaa-4052-89e2-74f8ced1e9d0",
   "metadata": {},
   "source": [
    "Q3. Is python case sensitive when dealing with idetifiers ?"
   ]
  },
  {
   "cell_type": "markdown",
   "id": "d894a360-214d-4d5c-8803-e5527141289b",
   "metadata": {},
   "source": [
    "Yes, Python is a case-sensitive programming language when dealing with identifiers. This means that variables, functions, modules, classes, and other identifiers must be spelled in the same way throughout the code.\n",
    "\n",
    "For example, if you define a variable called \"myVar\" in Python, you cannot refer to it later in your code as \"myvar\" or \"MYVAR\". Python will treat each of these identifiers as separate and distinct, potentially leading to errors in your program."
   ]
  },
  {
   "cell_type": "markdown",
   "id": "886244af-0cd5-4abc-aff1-4453e2e5f1c0",
   "metadata": {},
   "source": [
    "Q4. What is the correct extension of the python file ?"
   ]
  },
  {
   "cell_type": "markdown",
   "id": "dc229d49-d4e2-493e-9c9f-6bc4fc119277",
   "metadata": {},
   "source": [
    "The correct extension of a Python file is \".py\". When you save your Python code in a file, you should give it a name and add the \".py\" extension at the end of the file name."
   ]
  },
  {
   "cell_type": "markdown",
   "id": "84dc2fe4-9d7f-48d2-a2c7-c9598cbb2d9e",
   "metadata": {},
   "source": [
    "Q5. IS python code is compiled or interpreted ?"
   ]
  },
  {
   "cell_type": "markdown",
   "id": "334fc198-6b43-4aa0-b713-39ed2890f55b",
   "metadata": {},
   "source": [
    "Python is an interpreted programming language, which means that the code is executed line by line by an interpreter rather than being compiled into machine code like C or C++. When you run a Python program, the Python interpreter reads the source code and executes it directly.\n",
    "\n",
    "However, Python code can also be compiled into bytecode, which is a low-level representation of the code that can be executed by the Python virtual machine. This bytecode is platform-independent, which means that it can be executed on any platform that has a Python interpreter installed.\n",
    "\n",
    "In summary, Python code is interpreted by default, but it can also be compiled into bytecode for improved performance or distribution."
   ]
  },
  {
   "cell_type": "markdown",
   "id": "579d84f7-1506-4d23-b9cd-b3745188ab0a",
   "metadata": {},
   "source": [
    "Q6. Name a few blocks of code used to define in python language ?"
   ]
  },
  {
   "cell_type": "markdown",
   "id": "95e6e09a-07d6-4b1a-9861-0cdf8a1c6e1b",
   "metadata": {},
   "source": [
    "In Python, you can define different blocks of code using various keywords. Some of the most common blocks of code that you can define in Python are:\n",
    "\n",
    "1.Function blocks: These are blocks of code that define a function. Functions are reusable blocks of code that perform a specific task. You can define a function in Python using the \"def\" keyword.\n",
    "\n",
    "2.Class blocks: These are blocks of code that define a class. A class is a blueprint for creating objects that have specific attributes and methods. You can define a class in Python using the \"class\" keyword.\n",
    "\n",
    "3.Conditional blocks: These are blocks of code that execute different statements based on a condition. You can define conditional blocks in Python using the \"if\", \"elif\", and \"else\" keywords.\n",
    "\n",
    "4.Loop blocks: These are blocks of code that repeat a set of statements multiple times. You can define loop blocks in Python using the \"for\" and \"while\" keywords.\n",
    "\n",
    "5.Exception handling blocks: These are blocks of code that handle errors and exceptions that occur during the execution of a program. You can define exception handling blocks in Python using the \"try\", \"except\", \"finally\", and \"raise\" keywords."
   ]
  },
  {
   "cell_type": "markdown",
   "id": "8c6b8fae-a0ca-4200-928b-5f7ce6a37581",
   "metadata": {},
   "source": [
    "Q7. Satate a character used to give a single line comment in python ?"
   ]
  },
  {
   "cell_type": "markdown",
   "id": "ac859983-0179-4ed0-b53d-19a33dde9175",
   "metadata": {},
   "source": [
    "In Python, the character used to give a single-line comment is the hash symbol (#). When you add a hash symbol before a line of code, the interpreter will ignore that line when executing the program.\n",
    "\n",
    "For example, if you want to add a comment in Python to explain what a particular line of code does, you can do it like this:"
   ]
  },
  {
   "cell_type": "code",
   "execution_count": 1,
   "id": "1b680576-86e6-43f4-bf41-8dd108fb62b0",
   "metadata": {},
   "outputs": [],
   "source": [
    "# This line of code assigns the value 10 to the variable x\n",
    "x = 10"
   ]
  },
  {
   "cell_type": "markdown",
   "id": "440f3302-8742-49fd-a1be-0dd99bf909f6",
   "metadata": {},
   "source": [
    "Q8. Mention functions which can help us find the version of python the we are currently working on ?"
   ]
  },
  {
   "cell_type": "markdown",
   "id": "a8711cb5-73f5-44f1-b535-c733696bd548",
   "metadata": {},
   "source": [
    "In Python, you can use several functions to find the version of Python that you are currently working on. Here are some of the most common ones:\n",
    "\n",
    "1.sys.version: This function returns a string that contains the version number of Python and other information such as the build date and compiler.\n",
    "\n",
    "2.platform.python_version(): This function returns a string that contains the version number of Python in a standard format.\n",
    "\n",
    "3.sys.version_info: This function returns a tuple that contains detailed information about the Python version, such as the major and minor version numbers.\n",
    "\n",
    "4.platform.python_implementation(): This function returns the name of the Python implementation, such as \"CPython\", \"Jython\", or \"IronPython\"."
   ]
  },
  {
   "cell_type": "code",
   "execution_count": 2,
   "id": "89a32724-452a-4aa7-b6eb-62c61763b60a",
   "metadata": {},
   "outputs": [
    {
     "name": "stdout",
     "output_type": "stream",
     "text": [
      "Python version: 3.10.8 | packaged by conda-forge | (main, Nov 22 2022, 08:26:04) [GCC 10.4.0]\n",
      "Python version: 3.10.8\n",
      "Python version info: sys.version_info(major=3, minor=10, micro=8, releaselevel='final', serial=0)\n",
      "Python implementation: CPython\n"
     ]
    }
   ],
   "source": [
    "import sys\n",
    "import platform\n",
    "\n",
    "print(\"Python version:\", sys.version)\n",
    "print(\"Python version:\", platform.python_version())\n",
    "print(\"Python version info:\", sys.version_info)\n",
    "print(\"Python implementation:\", platform.python_implementation())"
   ]
  },
  {
   "cell_type": "markdown",
   "id": "273b2519-39d2-4a93-b602-7a74726232b5",
   "metadata": {},
   "source": [
    "Q9. Python supports the creation og anonymous functions at runtime, using a construct called "
   ]
  },
  {
   "cell_type": "markdown",
   "id": "a9cfdf2c-fb95-4582-ab67-9503c033d829",
   "metadata": {},
   "source": [
    "Python supports the creation of anonymous functions at runtime, using a construct called \"lambda\". The lambda function is a small, anonymous function that can take any number of arguments, but can only have one expression."
   ]
  },
  {
   "cell_type": "markdown",
   "id": "831de6a3-68cc-4f28-926b-7a3074f20beb",
   "metadata": {},
   "source": [
    "Q10. What does pip stand for python ?"
   ]
  },
  {
   "cell_type": "markdown",
   "id": "99ef37b0-ffb5-4f17-a058-fe04bd17b82e",
   "metadata": {},
   "source": [
    "PIP stands for \"Pip Installs Packages\" or \"Pip Installs Python\". It is a package manager for Python that is used to install and manage software packages written in Python. PIP is a command-line tool that makes it easy to find, install, and manage Python packages and dependencies."
   ]
  },
  {
   "cell_type": "markdown",
   "id": "36138695-9994-4494-a608-fc9bf858b576",
   "metadata": {},
   "source": [
    "Q11. Mention a few built in function in python"
   ]
  },
  {
   "cell_type": "markdown",
   "id": "e5382920-01fd-4a8b-b8b8-fcb8bfefba92",
   "metadata": {},
   "source": [
    "Python comes with many built-in functions that can be used directly in your code without requiring any additional libraries or imports. Here are some of the most commonly used built-in functions in Python:\n",
    "\n",
    "print(): used to print output to the console or terminal.\n",
    "input(): used to accept user input from the console or terminal.\n",
    "len(): used to get the length of a string, list, or other collection.\n",
    "range(): used to generate a sequence of numbers.\n",
    "type(): used to get the type of a variable or value.\n",
    "str(): used to convert a value to a string.\n",
    "int(): used to convert a value to an integer.\n",
    "float(): used to convert a value to a float.\n",
    "list(): used to convert a sequence to a list.\n",
    "dict(): used to create a new dictionary.\n",
    "max(): used to get the maximum value from a sequence.\n",
    "min(): used to get the minimum value from a sequence.\n",
    "sum(): used to get the sum of all values in a sequence.\n",
    "abs(): used to get the absolute value of a number.\n",
    "round(): used to round a number to a specified number of decimal places."
   ]
  },
  {
   "cell_type": "markdown",
   "id": "f0fcb60c-6e18-498d-b208-e65518be3410",
   "metadata": {},
   "source": [
    "Q12. What is the maximum possible length of an identifier in python ?"
   ]
  },
  {
   "cell_type": "markdown",
   "id": "94159da1-3b9d-480b-9396-a34ae89bd654",
   "metadata": {},
   "source": [
    "According to the official Python documentation, an identifier can be of any length, but it is recommended to keep it under 79 characters for readability. It is also recommended to use lowercase letters for variable names and function names, and use underscores to separate words within the name."
   ]
  },
  {
   "cell_type": "markdown",
   "id": "679e6ff0-adb1-4df2-905e-43e315e81df1",
   "metadata": {},
   "source": [
    "Q13. what are the benefits of using python ?"
   ]
  },
  {
   "cell_type": "markdown",
   "id": "086e3a08-d81c-47f1-b2f1-ab25c7b3679a",
   "metadata": {},
   "source": [
    "There are several benefits of using Python programming language, including:\n",
    "\n",
    "1.Easy to learn: Python has a simple syntax and easy-to-understand code, making it an ideal choice for beginners to learn programming.\n",
    "\n",
    "2.High-level language: Python is a high-level language, which means that it abstracts away many low-level details, making it easier to write code and focus on solving problems.\n",
    "\n",
    "3.Large standard library: Python comes with a large standard library that provides a wide range of functions and tools for many common programming tasks.\n",
    "\n",
    "4.Portable: Python code can be run on different platforms, including Windows, Mac, Linux, and many others.\n",
    "\n",
    "5.Interpreted: Python is an interpreted language, which means that you can run code directly without needing to compile it first.\n",
    "\n",
    "6.Object-oriented: Python supports object-oriented programming, which makes it easy to organize and manage code into reusable components.\n",
    "\n",
    "7.Versatile: Python can be used for a wide range of applications, including web development, data analysis, scientific computing, artificial intelligence, machine learning, and more.\n",
    "\n",
    "8.Large community: Python has a large and active community of developers, which means that there are many resources available for learning, sharing code, and getting help with any problems you encounter."
   ]
  },
  {
   "cell_type": "markdown",
   "id": "73359cbe-66ca-4ab2-9ddf-2c50337aaa68",
   "metadata": {},
   "source": [
    "Q14. How is memory managed in python ? "
   ]
  },
  {
   "cell_type": "markdown",
   "id": "d5b8e04c-e37a-4430-993a-5136ce11dc96",
   "metadata": {},
   "source": [
    "In Python, memory management is handled automatically by the interpreter through a system called reference counting. When an object is created, the interpreter creates a reference count for that object, which is the number of times it is referenced in the code. When the reference count of an object becomes zero, the object is automatically deleted from memory.\n",
    "\n",
    "Python also has a built-in garbage collector that runs periodically to collect and delete objects that are no longer referenced in the code. This helps to ensure that memory is used efficiently and that objects are deleted when they are no longer needed."
   ]
  },
  {
   "cell_type": "markdown",
   "id": "706a5aaf-b91b-45bc-bb6e-83cd0cbb621a",
   "metadata": {},
   "source": [
    "Q15. How to install python on windows and set path variables ?"
   ]
  },
  {
   "cell_type": "markdown",
   "id": "c5d3b745-8110-4e9c-8368-2e03883273d2",
   "metadata": {},
   "source": [
    "Here are the steps to install Python on Windows and set path variables:\n",
    "\n",
    "1.Download the latest version of Python for Windows from the official website: https://www.python.org/downloads/windows/\n",
    "\n",
    "2.Run the installer and follow the installation wizard to install Python.\n",
    "\n",
    "3.During the installation process, make sure to select the \"Add Python to PATH\" option, which will add Python to the system's PATH environment variable.\n",
    "\n",
    "4.Once the installation is complete, open the command prompt and type \"python\" to check if Python has been installed correctly. If you see the Python version number, then Python has been installed successfully.\n",
    "\n",
    "5.If you encounter any issues, check that the PATH environment variable has been set correctly. To do this, right-click on \"My Computer\" or \"This PC\" and select \"Properties\". Then click on \"Advanced system settings\" and select the \"Environment Variables\" button.\n",
    "\n",
    "6.In the \"Environment Variables\" window, scroll down to the \"System Variables\" section and look for the \"Path\" variable. If Python has been installed correctly, you should see a path to the Python installation directory.\n",
    "\n",
    "7.If the \"Path\" variable does not include the Python installation directory, you can add it manually. Click on \"Edit\" and add the path to the Python installation directory to the list of paths. Make sure to separate the path with a semicolon (;).\n",
    "\n",
    "8.Once you have added the Python installation directory to the PATH environment variable, you should be able to run Python from the command prompt by typing \"python\"."
   ]
  },
  {
   "cell_type": "markdown",
   "id": "236662cd-ff4e-4a0c-947b-033becdadacb",
   "metadata": {},
   "source": [
    "Q16. Is identation required in python ?"
   ]
  },
  {
   "cell_type": "markdown",
   "id": "fbeb18c7-8a57-42bc-8ba5-7ad665ec1113",
   "metadata": {},
   "source": [
    "Yes, indentation is required in Python. In fact, indentation is a critical part of Python syntax, as it is used to indicate the grouping of statements in a block of code. Unlike many other programming languages that use curly braces or other delimiters to define code blocks, Python uses indentation."
   ]
  }
 ],
 "metadata": {
  "kernelspec": {
   "display_name": "Python 3 (ipykernel)",
   "language": "python",
   "name": "python3"
  },
  "language_info": {
   "codemirror_mode": {
    "name": "ipython",
    "version": 3
   },
   "file_extension": ".py",
   "mimetype": "text/x-python",
   "name": "python",
   "nbconvert_exporter": "python",
   "pygments_lexer": "ipython3",
   "version": "3.10.8"
  }
 },
 "nbformat": 4,
 "nbformat_minor": 5
}
