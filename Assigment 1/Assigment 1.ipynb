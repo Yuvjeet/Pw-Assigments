{
 "cells": [
  {
   "cell_type": "markdown",
   "id": "07937dd4-ca0a-43da-8b3d-07fcb3e3f6d6",
   "metadata": {},
   "source": [
    "Q1 - Explain with an example each when use of for loop and while loop"
   ]
  },
  {
   "cell_type": "code",
   "execution_count": 1,
   "id": "0914022d-6ae9-4617-8cd6-dcaa82d331a4",
   "metadata": {},
   "outputs": [
    {
     "name": "stdout",
     "output_type": "stream",
     "text": [
      "2  X  1  =  2\n",
      "2  X  2  =  4\n",
      "2  X  3  =  6\n",
      "2  X  4  =  8\n",
      "2  X  5  =  10\n",
      "2  X  6  =  12\n",
      "2  X  7  =  14\n",
      "2  X  8  =  16\n",
      "2  X  9  =  18\n",
      "2  X  10  =  20\n"
     ]
    }
   ],
   "source": [
    "# A for loop is useful when you know the number of times you want to execute a block of code. \n",
    "for i in range(1,11):\n",
    "    print(\"2\", \" X \", i, \" = \", 2*i)"
   ]
  },
  {
   "cell_type": "code",
   "execution_count": 3,
   "id": "6ee043bc-ee7c-4b22-888b-bfb017e23a2d",
   "metadata": {
    "tags": []
   },
   "outputs": [
    {
     "name": "stdin",
     "output_type": "stream",
     "text": [
      "Enter A Odd Number:  10\n"
     ]
    },
    {
     "name": "stdout",
     "output_type": "stream",
     "text": [
      "You didn't enter a odd number\n"
     ]
    },
    {
     "name": "stdin",
     "output_type": "stream",
     "text": [
      "Enter A Odd Number:  11\n"
     ]
    },
    {
     "name": "stdout",
     "output_type": "stream",
     "text": [
      "11\n"
     ]
    }
   ],
   "source": [
    "# A while loop is useful when you want to execute a block of code repeatedly as long as a certain condition is true.\n",
    "num = int(input(\"Enter A Odd Number: \"))\n",
    "while(num % 2 != 1):\n",
    "    print(\"You didn't enter a odd number\")\n",
    "    num = int(input(\"Enter A Odd Number: \"))\n",
    "print(num)\n",
    "    "
   ]
  },
  {
   "cell_type": "markdown",
   "id": "4bf70d02-153c-445f-b411-38d082ec6683",
   "metadata": {},
   "source": [
    "Q2. Write a python program to print the sum and product of the first 10 natural numbers using for\n",
    "and while loop."
   ]
  },
  {
   "cell_type": "code",
   "execution_count": 16,
   "id": "e925d9e6-2106-4c0d-9907-b937b804b3eb",
   "metadata": {},
   "outputs": [
    {
     "name": "stdout",
     "output_type": "stream",
     "text": [
      "Sum =  55 \n",
      "Product = 3628800\n"
     ]
    }
   ],
   "source": [
    "#for loop\n",
    "Sum, Prod = 0,1\n",
    "for i in range(1,11):\n",
    "    Sum += i\n",
    "    Prod *= i\n",
    "print(\"Sum = \", Sum, \"\\nProduct =\", Prod)"
   ]
  },
  {
   "cell_type": "code",
   "execution_count": 19,
   "id": "66fa9353-91b3-44be-ac79-9de185a591cd",
   "metadata": {},
   "outputs": [
    {
     "name": "stdout",
     "output_type": "stream",
     "text": [
      "Sum =  45 \n",
      "Product = 362880\n"
     ]
    }
   ],
   "source": [
    "Sum, Prod, i = 0,1,1\n",
    "while(i < 10):\n",
    "    Sum += i\n",
    "    Prod *= i\n",
    "    i += 1\n",
    "print(\"Sum = \", Sum, \"\\nProduct =\", Prod)"
   ]
  },
  {
   "cell_type": "markdown",
   "id": "90b57b46-23cc-4d7f-93d0-07ecc113781b",
   "metadata": {},
   "source": [
    "Q3- Create a python program to compute electricity bill for household.\n",
    "The per-unit charges in rupees are as follows: For the first 100 units, the user will be charged Rs. 4.5 per\n",
    "unit, for the next 100 units, the user will be charged Rs. 6 per unit, and for the next 100 units, the user will\n",
    "be charged Rs. 10 per unit, After 300 units and above the user will be charged Rs. 20 per unit."
   ]
  },
  {
   "cell_type": "code",
   "execution_count": 9,
   "id": "fced3e08-d6fa-4b44-966f-991007426e5f",
   "metadata": {},
   "outputs": [
    {
     "name": "stdin",
     "output_type": "stream",
     "text": [
      " 310\n"
     ]
    },
    {
     "name": "stdout",
     "output_type": "stream",
     "text": [
      "Total cost for 310 units: Rs. 2250.0\n"
     ]
    }
   ],
   "source": [
    "units_consumed = int(input())\n",
    "if units_consumed <= 100:\n",
    "    cost = units_consumed * 4.5\n",
    "elif units_consumed <= 200:\n",
    "    cost = 100 * 4.5 + (units_consumed - 100) * 6\n",
    "elif units_consumed <= 300:\n",
    "    cost = 100 * 4.5 + 100 * 6 + (units_consumed - 200) * 10\n",
    "else:\n",
    "    cost = 100 * 4.5 + 100 * 6 + 100 * 10 + (units_consumed - 300) * 20\n",
    "print(\"Total cost for {} units: Rs. {}\".format(units_consumed, cost))\n"
   ]
  },
  {
   "cell_type": "markdown",
   "id": "71438363-7fe7-434b-bae2-eb7c6f142e7b",
   "metadata": {},
   "source": [
    "Q4. Create a list of numbers from 1 to 100. Use for loop and while loop to calculate the cube of each\n",
    "number and if the cube of that number is divisible by 4 or 5 then append that number in a list and print\n",
    "that list."
   ]
  },
  {
   "cell_type": "code",
   "execution_count": 10,
   "id": "27c025d2-5cf7-4361-a7d9-d84c9b2f1039",
   "metadata": {},
   "outputs": [
    {
     "name": "stdout",
     "output_type": "stream",
     "text": [
      "[2, 4, 5, 6, 8, 10, 12, 14, 15, 16, 18, 20, 22, 24, 25, 26, 28, 30, 32, 34, 35, 36, 38, 40, 42, 44, 45, 46, 48, 50, 52, 54, 55, 56, 58, 60, 62, 64, 65, 66, 68, 70, 72, 74, 75, 76, 78, 80, 82, 84, 85, 86, 88, 90, 92, 94, 95, 96, 98, 100]\n"
     ]
    }
   ],
   "source": [
    "#for loop\n",
    "l = []\n",
    "for i in range(1,101):\n",
    "    if(i**3 % 4 == 0 or i**3 % 5 == 0): l.append(i)\n",
    "print(l)"
   ]
  },
  {
   "cell_type": "code",
   "execution_count": 12,
   "id": "f062b6c4-868d-4beb-baa1-0868e7750fe9",
   "metadata": {},
   "outputs": [
    {
     "name": "stdout",
     "output_type": "stream",
     "text": [
      "[2, 4, 5, 6, 8, 10, 12, 14, 15, 16, 18, 20, 22, 24, 25, 26, 28, 30, 32, 34, 35, 36, 38, 40, 42, 44, 45, 46, 48, 50, 52, 54, 55, 56, 58, 60, 62, 64, 65, 66, 68, 70, 72, 74, 75, 76, 78, 80, 82, 84, 85, 86, 88, 90, 92, 94, 95, 96, 98, 100]\n"
     ]
    }
   ],
   "source": [
    "l = []\n",
    "i = 1\n",
    "while(i < 101):\n",
    "    if(i**3 % 4 == 0 or i**3 % 5 == 0): l.append(i)\n",
    "    i += 1\n",
    "print(l)"
   ]
  },
  {
   "cell_type": "markdown",
   "id": "571d5965-b35c-4a5f-a837-1bae98d3547b",
   "metadata": {},
   "source": [
    "Q5. Write a program to filter count vowels in the below-given string. \n",
    "string = \"I want to become a data scientist\""
   ]
  },
  {
   "cell_type": "code",
   "execution_count": 15,
   "id": "a16af1f7-f7ee-4c4f-b29b-74517ff6ad2d",
   "metadata": {},
   "outputs": [
    {
     "name": "stdout",
     "output_type": "stream",
     "text": [
      "12\n"
     ]
    }
   ],
   "source": [
    "string = \"I want to become a data scientist\"\n",
    "count = 0\n",
    "for i in string:\n",
    "    i = i.lower()\n",
    "    if(i in ['a', 'e', 'i', 'o', 'u']): count += 1\n",
    "print(count)"
   ]
  }
 ],
 "metadata": {
  "kernelspec": {
   "display_name": "Python 3 (ipykernel)",
   "language": "python",
   "name": "python3"
  },
  "language_info": {
   "codemirror_mode": {
    "name": "ipython",
    "version": 3
   },
   "file_extension": ".py",
   "mimetype": "text/x-python",
   "name": "python",
   "nbconvert_exporter": "python",
   "pygments_lexer": "ipython3",
   "version": "3.10.8"
  }
 },
 "nbformat": 4,
 "nbformat_minor": 5
}
