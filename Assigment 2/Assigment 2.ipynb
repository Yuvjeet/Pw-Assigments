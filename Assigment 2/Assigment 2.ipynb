{
 "cells": [
  {
   "cell_type": "markdown",
   "id": "0685b76c-c97a-4a1c-844f-7c174c43702f",
   "metadata": {},
   "source": [
    "Q1 - Which keyword is used to create a function? Create a function to return a list of odd numbers in the range of 1 to 25."
   ]
  },
  {
   "cell_type": "code",
   "execution_count": 2,
   "id": "6bd64a42-8126-4ece-a8fe-182d0501798d",
   "metadata": {},
   "outputs": [],
   "source": [
    "#def keyword is used to create a function"
   ]
  },
  {
   "cell_type": "code",
   "execution_count": 4,
   "id": "be1c7136-84c4-4b29-8239-2068f13c7c3e",
   "metadata": {},
   "outputs": [
    {
     "data": {
      "text/plain": [
       "[1, 3, 5, 7, 9, 11, 13, 15, 17, 19, 21, 23, 25]"
      ]
     },
     "execution_count": 4,
     "metadata": {},
     "output_type": "execute_result"
    }
   ],
   "source": [
    "def odd():\n",
    "    '''Return a list of odd numbers in the range of 1 to 25'''\n",
    "    return [i for i in range(1,26) if i % 2 != 0]\n",
    "odd()"
   ]
  },
  {
   "cell_type": "markdown",
   "id": "5ced92a4-9618-4aa9-baa6-aba0c6cad256",
   "metadata": {},
   "source": [
    "Q2. Why *args and **kwargs is used in some functions? Create a function each for *args and **kwargsto demonstrate their use."
   ]
  },
  {
   "cell_type": "markdown",
   "id": "72f25756-5e42-4f08-8c8d-4dad6b7eb811",
   "metadata": {},
   "source": [
    "Ans - *args and ** kwargs are special syntax in Python that allow a function to accept a variable number of arguments"
   ]
  },
  {
   "cell_type": "code",
   "execution_count": 5,
   "id": "bdae78d6-f4d9-4b6e-bd90-ca95aca9c223",
   "metadata": {},
   "outputs": [
    {
     "data": {
      "text/plain": [
       "60"
      ]
     },
     "execution_count": 5,
     "metadata": {},
     "output_type": "execute_result"
    }
   ],
   "source": [
    "# *agrs is useful when user don't know how many argument they have to pass\n",
    "def Sum(*args):\n",
    "    '''Return the sum of all the number passed'''\n",
    "    return sum(args)\n",
    "Sum(10,20,30)"
   ]
  },
  {
   "cell_type": "code",
   "execution_count": 9,
   "id": "4ccbd415-e3c2-461b-9083-1e1146242bb7",
   "metadata": {},
   "outputs": [
    {
     "name": "stdout",
     "output_type": "stream",
     "text": [
      "Name Yuvjeet\n",
      "age 19\n",
      "course impact\n"
     ]
    }
   ],
   "source": [
    "# **kwargs is used to pass argument as key value pair\n",
    "def print_values(**kwargs):\n",
    "    for key, value in kwargs.items():\n",
    "        print(key, value)\n",
    "print_values(Name = \"Yuvjeet\", age = 19, course = \"impact\")"
   ]
  },
  {
   "cell_type": "markdown",
   "id": "e6ecbcf5-9a84-4879-a68e-fb3e51c517a4",
   "metadata": {
    "tags": []
   },
   "source": [
    "Q3. What is an iterator in python? Name the method used to initialise the iterator object and the method used for iteration. Use these methods to print the first five elements of the given list [2, 4, 6, 8, 10, 12, 14,16, 18, 20]."
   ]
  },
  {
   "cell_type": "markdown",
   "id": "fb855fc9-8c3d-40d2-8193-b97b80c91eea",
   "metadata": {},
   "source": [
    "Ans - An iterator is an object that contains a countable number of values. An iterator is an object that can be iterated upon, meaning that we can traverse through all the values\n",
    "iter() method is used to initialised a iterator\n",
    "next() method is used to iteration"
   ]
  },
  {
   "cell_type": "code",
   "execution_count": 3,
   "id": "d6c6a4f9-dbb3-4fab-abb9-afae01efce27",
   "metadata": {},
   "outputs": [
    {
     "name": "stdout",
     "output_type": "stream",
     "text": [
      "2\n",
      "4\n",
      "6\n",
      "8\n",
      "10\n"
     ]
    }
   ],
   "source": [
    "l = [2, 4, 6, 8, 10, 12, 14,16, 18, 20]\n",
    "iterator = iter(l)\n",
    "print(next(iterator))\n",
    "print(next(iterator))\n",
    "print(next(iterator))\n",
    "print(next(iterator))\n",
    "print(next(iterator))"
   ]
  },
  {
   "cell_type": "markdown",
   "id": "bad916a3-d2ad-4651-95da-3065550a45b5",
   "metadata": {},
   "source": [
    "Q4. What is a generator function in python? Why yield keyword is used? Give an example of a generator function."
   ]
  },
  {
   "cell_type": "markdown",
   "id": "70e50f79-8908-40fc-b4b9-a1986846d724",
   "metadata": {},
   "source": [
    "Ans - A Python generator function allows you to declare a function that behaves like an iterator, providing a faster and easier way to create iterators\n",
    "\n",
    "The yield statement suspends a function’s execution and sends a value back to the caller, but retains enough state to enable the function to resume where it left off. When the function resumes, it continues execution immediately after the last yield run."
   ]
  },
  {
   "cell_type": "code",
   "execution_count": 5,
   "id": "23818783-9bae-4a84-96ac-a4674643492a",
   "metadata": {},
   "outputs": [
    {
     "name": "stdout",
     "output_type": "stream",
     "text": [
      "2\n",
      "4\n",
      "6\n",
      "8\n",
      "10\n",
      "12\n",
      "14\n",
      "16\n",
      "18\n",
      "20\n"
     ]
    }
   ],
   "source": [
    "def mul(num):\n",
    "    for i in range(1,11):\n",
    "        yield num * i\n",
    "for i in mul(2):\n",
    "    print(i)"
   ]
  },
  {
   "cell_type": "markdown",
   "id": "1040a344-4204-45cc-9892-e451206dd4b6",
   "metadata": {},
   "source": [
    "Q5. Create a generator function for prime numbers less than 1000. Use the next() method to print the first 20 prime numbers."
   ]
  },
  {
   "cell_type": "code",
   "execution_count": 10,
   "id": "a3a60ed0-5703-4bcd-a2f5-b16ebf370612",
   "metadata": {},
   "outputs": [
    {
     "name": "stdout",
     "output_type": "stream",
     "text": [
      "1\n",
      "2\n",
      "3\n",
      "5\n",
      "7\n",
      "11\n",
      "13\n",
      "17\n",
      "19\n",
      "23\n",
      "29\n",
      "31\n",
      "37\n",
      "41\n",
      "43\n",
      "47\n",
      "53\n",
      "59\n",
      "61\n",
      "67\n",
      "71\n"
     ]
    }
   ],
   "source": [
    "def prime():\n",
    "    i = 1\n",
    "    while i < 1001:\n",
    "        flag = True\n",
    "        for j in range(2,i):\n",
    "            if i % j == 0: flag = False\n",
    "        if flag == True: \n",
    "            yield i\n",
    "        i += 1\n",
    "prime_num = prime()\n",
    "for i in range(21):\n",
    "    print(next(prime_num))"
   ]
  },
  {
   "cell_type": "markdown",
   "id": "88f82233-8d0f-41d6-bdab-2173d98407b2",
   "metadata": {},
   "source": [
    "Q6. Write a python program to print the first 10 Fibonacci numbers using a while loop."
   ]
  },
  {
   "cell_type": "code",
   "execution_count": 12,
   "id": "814995ce-13e7-4130-bb93-f11edeff1071",
   "metadata": {},
   "outputs": [
    {
     "name": "stdout",
     "output_type": "stream",
     "text": [
      "1\n",
      "2\n",
      "3\n",
      "5\n",
      "8\n",
      "13\n",
      "21\n",
      "34\n",
      "55\n",
      "89\n"
     ]
    }
   ],
   "source": [
    "a, b, i = 0,1, 10\n",
    "while(i > 0):\n",
    "    print(a+b)\n",
    "    a,b = b, a+b\n",
    "    i -= 1"
   ]
  },
  {
   "cell_type": "markdown",
   "id": "313e8fef-864c-47a0-81de-f1ee5a3f229a",
   "metadata": {},
   "source": [
    "Q7. Write a List Comprehension to iterate through the given string: ‘pwskills’.\n",
    "Expected output: ['p', 'w', 's', 'k', 'i', 'l', 'l', 's']"
   ]
  },
  {
   "cell_type": "code",
   "execution_count": 13,
   "id": "aaea9125-fe95-4b91-b05d-8916c0bb7ba9",
   "metadata": {},
   "outputs": [
    {
     "data": {
      "text/plain": [
       "['p', 'w', 's', 'k', 'i', 'l', 'l', 's']"
      ]
     },
     "execution_count": 13,
     "metadata": {},
     "output_type": "execute_result"
    }
   ],
   "source": [
    "[i for i in 'pwskills']"
   ]
  },
  {
   "cell_type": "markdown",
   "id": "7af08629-b0ea-46df-ac13-fbccf9322521",
   "metadata": {},
   "source": [
    "Q8. Write a python program to check whether a given number is Palindrome or not using a while loop."
   ]
  },
  {
   "cell_type": "code",
   "execution_count": 17,
   "id": "d853ac85-b2c0-49e9-b222-589fcb08591c",
   "metadata": {},
   "outputs": [
    {
     "name": "stdin",
     "output_type": "stream",
     "text": [
      "Enter a number:  132\n"
     ]
    },
    {
     "name": "stdout",
     "output_type": "stream",
     "text": [
      "False\n"
     ]
    }
   ],
   "source": [
    "num = int(input(\"Enter a number: \"))\n",
    "temp = num\n",
    "rev = 0\n",
    "while(temp > 0):\n",
    "    rev = (10*rev) + temp % 10\n",
    "    temp //= 10\n",
    "print(rev == num)"
   ]
  },
  {
   "cell_type": "markdown",
   "id": "a94ff8d3-3a5b-48f4-b75b-d38f36455c6e",
   "metadata": {},
   "source": [
    "Q9. Write a code to print odd numbers from 1 to 100 using list comprehension.\n",
    "<br>Note: Use a list comprehension to create a list from 1 to 100 and use another List comprehension to filter\n",
    "out odd numbers."
   ]
  },
  {
   "cell_type": "code",
   "execution_count": 19,
   "id": "ba6196c0-907c-4978-ada9-d5728ee32629",
   "metadata": {},
   "outputs": [
    {
     "data": {
      "text/plain": [
       "[1,\n",
       " 3,\n",
       " 5,\n",
       " 7,\n",
       " 9,\n",
       " 11,\n",
       " 13,\n",
       " 15,\n",
       " 17,\n",
       " 19,\n",
       " 21,\n",
       " 23,\n",
       " 25,\n",
       " 27,\n",
       " 29,\n",
       " 31,\n",
       " 33,\n",
       " 35,\n",
       " 37,\n",
       " 39,\n",
       " 41,\n",
       " 43,\n",
       " 45,\n",
       " 47,\n",
       " 49,\n",
       " 51,\n",
       " 53,\n",
       " 55,\n",
       " 57,\n",
       " 59,\n",
       " 61,\n",
       " 63,\n",
       " 65,\n",
       " 67,\n",
       " 69,\n",
       " 71,\n",
       " 73,\n",
       " 75,\n",
       " 77,\n",
       " 79,\n",
       " 81,\n",
       " 83,\n",
       " 85,\n",
       " 87,\n",
       " 89,\n",
       " 91,\n",
       " 93,\n",
       " 95,\n",
       " 97,\n",
       " 99]"
      ]
     },
     "execution_count": 19,
     "metadata": {},
     "output_type": "execute_result"
    }
   ],
   "source": [
    "[i for i in [j for j in range(1,101)] if i % 2 != 0]"
   ]
  },
  {
   "cell_type": "code",
   "execution_count": null,
   "id": "4dc0f312-e80e-4f6e-a00d-577f56f0abbd",
   "metadata": {},
   "outputs": [],
   "source": []
  }
 ],
 "metadata": {
  "kernelspec": {
   "display_name": "Python 3 (ipykernel)",
   "language": "python",
   "name": "python3"
  },
  "language_info": {
   "codemirror_mode": {
    "name": "ipython",
    "version": 3
   },
   "file_extension": ".py",
   "mimetype": "text/x-python",
   "name": "python",
   "nbconvert_exporter": "python",
   "pygments_lexer": "ipython3",
   "version": "3.10.8"
  }
 },
 "nbformat": 4,
 "nbformat_minor": 5
}
