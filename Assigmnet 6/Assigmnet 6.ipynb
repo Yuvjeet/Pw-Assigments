{
 "cells": [
  {
   "cell_type": "markdown",
   "id": "6e4c75a4-a5f5-43b2-8522-379d832df507",
   "metadata": {},
   "source": [
    "Q1. Write a program to accept percentage from the user and display the grade according to the following criteria:"
   ]
  },
  {
   "cell_type": "code",
   "execution_count": 1,
   "id": "8a212439-00f9-4cfc-b4dd-455d5facf686",
   "metadata": {},
   "outputs": [
    {
     "name": "stdin",
     "output_type": "stream",
     "text": [
      "Enter your percentage:  90.1\n"
     ]
    },
    {
     "name": "stdout",
     "output_type": "stream",
     "text": [
      "A\n"
     ]
    }
   ],
   "source": [
    "percentage = float(input(\"Enter your percentage: \"))\n",
    "if percentage > 90: print(\"A\")\n",
    "elif percantage > 80 and percentage <= 90: print(\"B\")\n",
    "elif percentage >= 60 and percentage <= 80: print(\"C\")\n",
    "else: print(\"D\")"
   ]
  },
  {
   "cell_type": "markdown",
   "id": "b1e1a284-af76-430f-afb0-010792403780",
   "metadata": {},
   "source": [
    "Q2. Write a program to accept a cost price of a bike and display road tax to be paid according to the following criteria: "
   ]
  },
  {
   "cell_type": "code",
   "execution_count": 2,
   "id": "2f2fb9e2-4520-4308-a0ef-772c6fa61015",
   "metadata": {},
   "outputs": [
    {
     "name": "stdin",
     "output_type": "stream",
     "text": [
      "Enter the cost of bike:  10000\n"
     ]
    },
    {
     "name": "stdout",
     "output_type": "stream",
     "text": [
      "5%\n"
     ]
    }
   ],
   "source": [
    "cost = float(input('Enter the cost of bike: '))\n",
    "if cost > 100000: print(\"15%\")\n",
    "elif cost > 50000 and cost <= 100000: print(\"10%\")\n",
    "else: print(\"5%\")"
   ]
  },
  {
   "cell_type": "markdown",
   "id": "fc55ee88-3597-407c-831d-15c9b0ac8ba0",
   "metadata": {},
   "source": [
    "Q3. Accept any city from the user and display monumnets of that city."
   ]
  },
  {
   "cell_type": "code",
   "execution_count": 3,
   "id": "a4abca20-09b2-4891-b531-72d5cc8c3032",
   "metadata": {},
   "outputs": [
    {
     "name": "stdin",
     "output_type": "stream",
     "text": [
      "Enter city:  agra\n"
     ]
    },
    {
     "name": "stdout",
     "output_type": "stream",
     "text": [
      "Taj mahal\n"
     ]
    }
   ],
   "source": [
    "city = input(\"Enter city: \")\n",
    "city = city.lower()\n",
    "if city == \"delhi\": print(\"Red Fort\")\n",
    "elif city == \"agra\": print(\"Taj mahal\")\n",
    "elif city == \"jaipur\": print(\"Jal Mahla\")"
   ]
  },
  {
   "cell_type": "markdown",
   "id": "11ab50ca-fbfd-441e-9b53-176df8e85fac",
   "metadata": {},
   "source": [
    "Q4. check how many times number can be divisible by 3 before it is less than or equal to 10."
   ]
  },
  {
   "cell_type": "code",
   "execution_count": 5,
   "id": "331c8c44-f217-4a74-9391-cfeb0eb85321",
   "metadata": {},
   "outputs": [
    {
     "name": "stdin",
     "output_type": "stream",
     "text": [
      " 30\n"
     ]
    },
    {
     "name": "stdout",
     "output_type": "stream",
     "text": [
      "1\n"
     ]
    }
   ],
   "source": [
    "num = int(input())\n",
    "count = 0\n",
    "while(num > 10):\n",
    "    num //= 3\n",
    "    count += 1\n",
    "print(count)"
   ]
  },
  {
   "cell_type": "markdown",
   "id": "0fa4f99e-6e29-4419-a0e2-7852eaa7a6d5",
   "metadata": {},
   "source": [
    "Q5. why and when to use while loop in python give detailed description wiht example"
   ]
  },
  {
   "cell_type": "markdown",
   "id": "42767c50-2172-434d-ac5a-4c5a2062a6b0",
   "metadata": {},
   "source": [
    "A while loop is a control flow statement in Python that allows you to execute a block of code repeatedly as long as a specified condition is true. It is useful when you don't know the exact number of times you need to repeat a block of code.\n",
    "\n",
    "The general syntax of a while loop in Python is as follows:"
   ]
  },
  {
   "cell_type": "code",
   "execution_count": 7,
   "id": "62258f62-9701-49c5-bf6b-8ce630986cce",
   "metadata": {},
   "outputs": [],
   "source": [
    "# while condition:\n",
    "#     code to be executed"
   ]
  },
  {
   "cell_type": "markdown",
   "id": "ad114232-da8d-48a5-b524-2515be7513bf",
   "metadata": {},
   "source": [
    "The condition is a Boolean expression that is checked before each iteration of the loop. The loop will continue to execute the block of code as long as the condition is true."
   ]
  },
  {
   "cell_type": "markdown",
   "id": "7e5bca8e-b610-4f29-933c-7d1cc7ce68f7",
   "metadata": {},
   "source": [
    "Q6. Use nested while loop to print 3 diffferent pattern."
   ]
  },
  {
   "cell_type": "code",
   "execution_count": 8,
   "id": "1df8e9df-02a5-4012-a353-227bc477239b",
   "metadata": {},
   "outputs": [],
   "source": [
    "# 1\n",
    "# 12\n",
    "# 123\n",
    "# 1234\n",
    "# 12345"
   ]
  },
  {
   "cell_type": "code",
   "execution_count": 9,
   "id": "07763622-2fdb-422f-8558-2ae1275bd319",
   "metadata": {},
   "outputs": [
    {
     "name": "stdout",
     "output_type": "stream",
     "text": [
      "1\n",
      "12\n",
      "123\n",
      "1234\n",
      "12345\n"
     ]
    }
   ],
   "source": [
    "i = 1\n",
    "while i <= 5:\n",
    "    j = 1\n",
    "    while j <= i:\n",
    "        print(j, end=\"\")\n",
    "        j += 1\n",
    "    print()\n",
    "    i += 1"
   ]
  },
  {
   "cell_type": "code",
   "execution_count": 10,
   "id": "2ff00473-f944-4943-a494-f02969f3ebc3",
   "metadata": {},
   "outputs": [],
   "source": [
    "# *\n",
    "# **\n",
    "# ***\n",
    "# ****\n",
    "# *****"
   ]
  },
  {
   "cell_type": "code",
   "execution_count": 11,
   "id": "84722262-0f88-49d5-a54b-ecd2ba4b0951",
   "metadata": {},
   "outputs": [
    {
     "name": "stdout",
     "output_type": "stream",
     "text": [
      "*\n",
      "**\n",
      "***\n",
      "****\n",
      "*****\n"
     ]
    }
   ],
   "source": [
    "i = 1\n",
    "while i <= 5:\n",
    "    j = 1\n",
    "    while j <= i:\n",
    "        print(\"*\", end=\"\")\n",
    "        j += 1\n",
    "    print()\n",
    "    i += 1"
   ]
  },
  {
   "cell_type": "code",
   "execution_count": 12,
   "id": "9a39d4bf-6820-4414-8668-f4e4094cf9eb",
   "metadata": {},
   "outputs": [],
   "source": [
    "#########\n",
    " #######\n",
    "  #####\n",
    "   ###\n",
    "    #"
   ]
  },
  {
   "cell_type": "code",
   "execution_count": 13,
   "id": "3ea05780-2bb7-4a79-a3dd-fbac48bdd1ce",
   "metadata": {},
   "outputs": [
    {
     "name": "stdout",
     "output_type": "stream",
     "text": [
      "#########\n",
      " #######\n",
      "  #####\n",
      "   ###\n",
      "    #\n"
     ]
    }
   ],
   "source": [
    "i = 5\n",
    "while i >= 1:\n",
    "    j = 5 - i\n",
    "    while j >= 1:\n",
    "        print(\" \", end=\"\")\n",
    "        j -= 1\n",
    "    k = 2 * i - 1\n",
    "    while k >= 1:\n",
    "        print(\"#\", end=\"\")\n",
    "        k -= 1\n",
    "    print()\n",
    "    i -= 1"
   ]
  },
  {
   "cell_type": "code",
   "execution_count": 14,
   "id": "717f70bc-2c61-41c2-a284-6a87189a5d18",
   "metadata": {},
   "outputs": [
    {
     "name": "stdout",
     "output_type": "stream",
     "text": [
      "#########\n",
      " #######\n",
      "  #####\n",
      "   ###\n",
      "    #\n"
     ]
    }
   ],
   "source": [
    "i = 5\n",
    "while i >= 1:\n",
    "    j = 5 - i\n",
    "    while j >= 1:\n",
    "        print(\" \", end=\"\")\n",
    "        j -= 1\n",
    "    k = 2 * i - 1\n",
    "    while k >= 1:\n",
    "        print(\"#\", end=\"\")\n",
    "        k -= 1\n",
    "    print()\n",
    "    i -= 1"
   ]
  },
  {
   "cell_type": "markdown",
   "id": "383304bc-6d36-49a8-a364-b27dffe144fa",
   "metadata": {},
   "source": [
    "Q7. Reverse a while loop to display number from 10 to 1."
   ]
  },
  {
   "cell_type": "code",
   "execution_count": 15,
   "id": "d3b7609a-8756-4cf3-b441-cfe3803b250a",
   "metadata": {},
   "outputs": [
    {
     "name": "stdout",
     "output_type": "stream",
     "text": [
      "10\n",
      "9\n",
      "8\n",
      "7\n",
      "6\n",
      "5\n",
      "4\n",
      "3\n",
      "2\n",
      "1\n"
     ]
    }
   ],
   "source": [
    "n = 10\n",
    "while(n > 0):\n",
    "    print(n)\n",
    "    n -= 1"
   ]
  },
  {
   "cell_type": "markdown",
   "id": "4d4c1d1d-1b16-4e25-9b06-20f2af3947dd",
   "metadata": {},
   "source": [
    "Q8. Reverse a while loop to display number from 10 to 1."
   ]
  },
  {
   "cell_type": "code",
   "execution_count": 16,
   "id": "3c3c29ce-3b70-4a04-8f22-3e43d0b51943",
   "metadata": {},
   "outputs": [
    {
     "name": "stdout",
     "output_type": "stream",
     "text": [
      "10\n",
      "9\n",
      "8\n",
      "7\n",
      "6\n",
      "5\n",
      "4\n",
      "3\n",
      "2\n",
      "1\n"
     ]
    }
   ],
   "source": [
    "n = 10\n",
    "while(n > 0):\n",
    "    print(n)\n",
    "    n -= 1"
   ]
  },
  {
   "cell_type": "code",
   "execution_count": null,
   "id": "e24756d7-0ec9-48a6-b09d-ea7468293309",
   "metadata": {},
   "outputs": [],
   "source": []
  }
 ],
 "metadata": {
  "kernelspec": {
   "display_name": "Python 3 (ipykernel)",
   "language": "python",
   "name": "python3"
  },
  "language_info": {
   "codemirror_mode": {
    "name": "ipython",
    "version": 3
   },
   "file_extension": ".py",
   "mimetype": "text/x-python",
   "name": "python",
   "nbconvert_exporter": "python",
   "pygments_lexer": "ipython3",
   "version": "3.10.8"
  }
 },
 "nbformat": 4,
 "nbformat_minor": 5
}
